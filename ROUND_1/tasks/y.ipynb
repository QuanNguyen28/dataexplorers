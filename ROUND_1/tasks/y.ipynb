{
 "cells": [
  {
   "cell_type": "code",
   "execution_count": null,
   "metadata": {},
   "outputs": [],
   "source": [
    "import numpy as np\n",
    "import pandas as pd\n",
    "import scipy.stats as stats\n",
    "from pymannkendall import original_test\n",
    "\n",
    "from dataflow import df_train, df_test, df_geography, df_product"
   ]
  },
  {
   "cell_type": "markdown",
   "metadata": {},
   "source": [
    "# 1. Kiểm chứng các giả thuyết"
   ]
  },
  {
   "cell_type": "code",
   "execution_count": 2,
   "metadata": {},
   "outputs": [],
   "source": [
    "# Kết nối tự nhiên giữa các bảng\n",
    "df = df_train.merge(df_geography, on='Zip', how='left').merge(df_product, on='ProductID', how='left')"
   ]
  },
  {
   "cell_type": "code",
   "execution_count": 3,
   "metadata": {},
   "outputs": [
    {
     "data": {
      "text/html": [
       "<div>\n",
       "<style scoped>\n",
       "    .dataframe tbody tr th:only-of-type {\n",
       "        vertical-align: middle;\n",
       "    }\n",
       "\n",
       "    .dataframe tbody tr th {\n",
       "        vertical-align: top;\n",
       "    }\n",
       "\n",
       "    .dataframe thead th {\n",
       "        text-align: right;\n",
       "    }\n",
       "</style>\n",
       "<table border=\"1\" class=\"dataframe\">\n",
       "  <thead>\n",
       "    <tr style=\"text-align: right;\">\n",
       "      <th></th>\n",
       "      <th>ProductID</th>\n",
       "      <th>Date</th>\n",
       "      <th>Zip</th>\n",
       "      <th>Units</th>\n",
       "      <th>Revenue</th>\n",
       "      <th>COGS</th>\n",
       "      <th>City</th>\n",
       "      <th>State</th>\n",
       "      <th>Region</th>\n",
       "      <th>District</th>\n",
       "      <th>Category</th>\n",
       "      <th>Segment</th>\n",
       "      <th>Product</th>\n",
       "    </tr>\n",
       "  </thead>\n",
       "  <tbody>\n",
       "    <tr>\n",
       "      <th>0</th>\n",
       "      <td>1228</td>\n",
       "      <td>2013-07-31</td>\n",
       "      <td>78773</td>\n",
       "      <td>12</td>\n",
       "      <td>19648.44</td>\n",
       "      <td>12309.747660</td>\n",
       "      <td>Austin, TX</td>\n",
       "      <td>TX</td>\n",
       "      <td>Central</td>\n",
       "      <td>District #23</td>\n",
       "      <td>Urban</td>\n",
       "      <td>Convenience</td>\n",
       "      <td>Pirum UC-30</td>\n",
       "    </tr>\n",
       "    <tr>\n",
       "      <th>1</th>\n",
       "      <td>781</td>\n",
       "      <td>2014-03-12</td>\n",
       "      <td>90501</td>\n",
       "      <td>16</td>\n",
       "      <td>20351.52</td>\n",
       "      <td>13497.128064</td>\n",
       "      <td>Torrance, CA</td>\n",
       "      <td>CA</td>\n",
       "      <td>West</td>\n",
       "      <td>District #37</td>\n",
       "      <td>Rural</td>\n",
       "      <td>Productivity</td>\n",
       "      <td>Natura RP-69</td>\n",
       "    </tr>\n",
       "    <tr>\n",
       "      <th>2</th>\n",
       "      <td>2090</td>\n",
       "      <td>2013-11-29</td>\n",
       "      <td>44460</td>\n",
       "      <td>26</td>\n",
       "      <td>111367.62</td>\n",
       "      <td>91488.499830</td>\n",
       "      <td>Salem, OH</td>\n",
       "      <td>OH</td>\n",
       "      <td>East</td>\n",
       "      <td>District #14</td>\n",
       "      <td>Urban</td>\n",
       "      <td>Convenience</td>\n",
       "      <td>Currus UC-25</td>\n",
       "    </tr>\n",
       "    <tr>\n",
       "      <th>3</th>\n",
       "      <td>1116</td>\n",
       "      <td>2018-08-29</td>\n",
       "      <td>30122</td>\n",
       "      <td>12</td>\n",
       "      <td>36280.44</td>\n",
       "      <td>21967.806420</td>\n",
       "      <td>Lithia Springs, GA</td>\n",
       "      <td>GA</td>\n",
       "      <td>East</td>\n",
       "      <td>District #09</td>\n",
       "      <td>Rural</td>\n",
       "      <td>Select</td>\n",
       "      <td>Pirum RS-04</td>\n",
       "    </tr>\n",
       "    <tr>\n",
       "      <th>4</th>\n",
       "      <td>993</td>\n",
       "      <td>2013-04-27</td>\n",
       "      <td>75789</td>\n",
       "      <td>14</td>\n",
       "      <td>55557.18</td>\n",
       "      <td>48645.866808</td>\n",
       "      <td>Troup, TX</td>\n",
       "      <td>TX</td>\n",
       "      <td>Central</td>\n",
       "      <td>District #24</td>\n",
       "      <td>Urban</td>\n",
       "      <td>Convenience</td>\n",
       "      <td>Natura UC-56</td>\n",
       "    </tr>\n",
       "    <tr>\n",
       "      <th>5</th>\n",
       "      <td>715</td>\n",
       "      <td>2014-12-29</td>\n",
       "      <td>27707</td>\n",
       "      <td>12</td>\n",
       "      <td>23806.44</td>\n",
       "      <td>21909.066732</td>\n",
       "      <td>Durham, NC</td>\n",
       "      <td>NC</td>\n",
       "      <td>East</td>\n",
       "      <td>District #08</td>\n",
       "      <td>Rural</td>\n",
       "      <td>Productivity</td>\n",
       "      <td>Natura RP-03</td>\n",
       "    </tr>\n",
       "    <tr>\n",
       "      <th>6</th>\n",
       "      <td>808</td>\n",
       "      <td>2016-11-25</td>\n",
       "      <td>77041</td>\n",
       "      <td>13</td>\n",
       "      <td>53636.31</td>\n",
       "      <td>31693.695579</td>\n",
       "      <td>Houston, TX</td>\n",
       "      <td>TX</td>\n",
       "      <td>Central</td>\n",
       "      <td>District #23</td>\n",
       "      <td>Rural</td>\n",
       "      <td>Select</td>\n",
       "      <td>Natura RS-12</td>\n",
       "    </tr>\n",
       "    <tr>\n",
       "      <th>7</th>\n",
       "      <td>764</td>\n",
       "      <td>2012-01-27</td>\n",
       "      <td>27522</td>\n",
       "      <td>40</td>\n",
       "      <td>146134.80</td>\n",
       "      <td>135496.186560</td>\n",
       "      <td>Creedmoor, NC</td>\n",
       "      <td>NC</td>\n",
       "      <td>East</td>\n",
       "      <td>District #08</td>\n",
       "      <td>Rural</td>\n",
       "      <td>Productivity</td>\n",
       "      <td>Natura RP-52</td>\n",
       "    </tr>\n",
       "    <tr>\n",
       "      <th>8</th>\n",
       "      <td>433</td>\n",
       "      <td>2016-04-17</td>\n",
       "      <td>90250</td>\n",
       "      <td>21</td>\n",
       "      <td>240719.85</td>\n",
       "      <td>137451.034350</td>\n",
       "      <td>Hawthorne, CA</td>\n",
       "      <td>CA</td>\n",
       "      <td>West</td>\n",
       "      <td>District #37</td>\n",
       "      <td>Urban</td>\n",
       "      <td>Moderation</td>\n",
       "      <td>Maximus UM-38</td>\n",
       "    </tr>\n",
       "    <tr>\n",
       "      <th>9</th>\n",
       "      <td>1244</td>\n",
       "      <td>2017-01-06</td>\n",
       "      <td>33178</td>\n",
       "      <td>17</td>\n",
       "      <td>98510.58</td>\n",
       "      <td>71016.277122</td>\n",
       "      <td>Miami, FL</td>\n",
       "      <td>FL</td>\n",
       "      <td>East</td>\n",
       "      <td>District #10</td>\n",
       "      <td>Mix</td>\n",
       "      <td>Productivity</td>\n",
       "      <td>Quibus MP-12</td>\n",
       "    </tr>\n",
       "  </tbody>\n",
       "</table>\n",
       "</div>"
      ],
      "text/plain": [
       "   ProductID       Date    Zip  Units    Revenue           COGS  \\\n",
       "0       1228 2013-07-31  78773     12   19648.44   12309.747660   \n",
       "1        781 2014-03-12  90501     16   20351.52   13497.128064   \n",
       "2       2090 2013-11-29  44460     26  111367.62   91488.499830   \n",
       "3       1116 2018-08-29  30122     12   36280.44   21967.806420   \n",
       "4        993 2013-04-27  75789     14   55557.18   48645.866808   \n",
       "5        715 2014-12-29  27707     12   23806.44   21909.066732   \n",
       "6        808 2016-11-25  77041     13   53636.31   31693.695579   \n",
       "7        764 2012-01-27  27522     40  146134.80  135496.186560   \n",
       "8        433 2016-04-17  90250     21  240719.85  137451.034350   \n",
       "9       1244 2017-01-06  33178     17   98510.58   71016.277122   \n",
       "\n",
       "                 City State   Region      District Category       Segment  \\\n",
       "0          Austin, TX    TX  Central  District #23    Urban   Convenience   \n",
       "1        Torrance, CA    CA     West  District #37    Rural  Productivity   \n",
       "2           Salem, OH    OH     East  District #14    Urban   Convenience   \n",
       "3  Lithia Springs, GA    GA     East  District #09    Rural        Select   \n",
       "4           Troup, TX    TX  Central  District #24    Urban   Convenience   \n",
       "5          Durham, NC    NC     East  District #08    Rural  Productivity   \n",
       "6         Houston, TX    TX  Central  District #23    Rural        Select   \n",
       "7       Creedmoor, NC    NC     East  District #08    Rural  Productivity   \n",
       "8       Hawthorne, CA    CA     West  District #37    Urban    Moderation   \n",
       "9           Miami, FL    FL     East  District #10      Mix  Productivity   \n",
       "\n",
       "         Product  \n",
       "0    Pirum UC-30  \n",
       "1   Natura RP-69  \n",
       "2   Currus UC-25  \n",
       "3    Pirum RS-04  \n",
       "4   Natura UC-56  \n",
       "5   Natura RP-03  \n",
       "6   Natura RS-12  \n",
       "7   Natura RP-52  \n",
       "8  Maximus UM-38  \n",
       "9   Quibus MP-12  "
      ]
     },
     "execution_count": 3,
     "metadata": {},
     "output_type": "execute_result"
    }
   ],
   "source": [
    "df.head(10)"
   ]
  },
  {
   "cell_type": "markdown",
   "metadata": {},
   "source": [
    "## 1.1. Giả thuyết 1\n",
    "\n",
    "### Kiểm định ANOVA: Doanh thu trung bình có khác biệt giữa các khu vực (Region)?\n",
    "- $\\mathcal{H}_0$ (Giả thuyết không): Không có sự khác biệt đáng kể về doanh thu trung bình giữa các khu vực.\n",
    "- $\\mathcal{H}_1$ (Giả thuyết đối): Ít nhất một khu vực có doanh thu trung bình khác biệt đáng kể.\n"
   ]
  },
  {
   "cell_type": "code",
   "execution_count": 4,
   "metadata": {},
   "outputs": [
    {
     "name": "stdout",
     "output_type": "stream",
     "text": [
      "ANOVA test result for Revenue across Regions: p-value = 0.0\n",
      "Có sự khác biệt đáng kể giữa các khu vực.\n"
     ]
    }
   ],
   "source": [
    "# Nhóm doanh thu theo Region\n",
    "regions = df['Region'].unique()\n",
    "revenue_by_region = [df[df['Region'] == region]['Revenue'] for region in regions]\n",
    "\n",
    "# Thực hiện kiểm định ANOVA\n",
    "anova_result = stats.f_oneway(*revenue_by_region)\n",
    "\n",
    "print(f\"ANOVA test result for Revenue across Regions: p-value = {anova_result.pvalue}\")\n",
    "\n",
    "# Kiểm định kết luận\n",
    "alpha = 0.05\n",
    "if anova_result.pvalue < alpha:\n",
    "    print(\"Có sự khác biệt đáng kể giữa các khu vực.\")\n",
    "else:\n",
    "    print(\"Không có sự khác biệt đáng kể giữa các khu vực.\")\n"
   ]
  },
  {
   "cell_type": "markdown",
   "metadata": {},
   "source": [
    "## 1.2. Giả thuyết 2\n",
    "\n",
    "### Kiểm định ANOVA: Số lượng sản phẩm bán ra có khác nhau giữa các danh mục (Category)?\n",
    "- $\\mathcal{H}_0$: Không có sự khác biệt đáng kể về số lượng bán giữa các danh mục sản phẩm.\n",
    "- $\\mathcal{H}_1$: Ít nhất một danh mục có số lượng bán khác biệt đáng kể."
   ]
  },
  {
   "cell_type": "code",
   "execution_count": 5,
   "metadata": {},
   "outputs": [
    {
     "name": "stdout",
     "output_type": "stream",
     "text": [
      "ANOVA test result for Units across Categories: p-value = 0.0\n",
      "Có sự khác biệt đáng kể về số lượng bán giữa các danh mục sản phẩm.\n"
     ]
    }
   ],
   "source": [
    "# Nhóm số lượng sản phẩm bán theo Category\n",
    "categories = df['Category'].unique()\n",
    "units_by_category = [df[df['Category'] == category]['Units'] for category in categories]\n",
    "\n",
    "# Thực hiện kiểm định ANOVA\n",
    "anova_result_units = stats.f_oneway(*units_by_category)\n",
    "\n",
    "print(f\"ANOVA test result for Units across Categories: p-value = {anova_result_units.pvalue}\")\n",
    "\n",
    "if anova_result_units.pvalue < alpha:\n",
    "    print(\"Có sự khác biệt đáng kể về số lượng bán giữa các danh mục sản phẩm.\")\n",
    "else:\n",
    "    print(\"Không có sự khác biệt đáng kể về số lượng bán giữa các danh mục sản phẩm.\")"
   ]
  },
  {
   "cell_type": "markdown",
   "metadata": {},
   "source": [
    "## 1.3. Giả thuyết 3\n",
    "\n",
    "###  T-Test: Doanh thu trung bình trước và sau năm 2016 có khác biệt đáng kể?\n",
    "- $\\mathcal{H}_0$: Không có sự khác biệt đáng kể về doanh thu trung bình trước và sau năm 2016.\n",
    "- $\\mathcal{H}_1$: Có sự khác biệt đáng kể về doanh thu trung bình giữa hai giai đoạn."
   ]
  },
  {
   "cell_type": "code",
   "execution_count": 6,
   "metadata": {},
   "outputs": [
    {
     "name": "stdout",
     "output_type": "stream",
     "text": [
      "T-Test result for Revenue before and after 2016: p-value = 0.0\n",
      "Có sự khác biệt đáng kể về doanh thu trung bình trước và sau năm 2016.\n"
     ]
    }
   ],
   "source": [
    "# Chia dữ liệu thành hai nhóm: trước 2016 và từ 2016 trở đi\n",
    "df['Year'] = df['Date'].dt.year\n",
    "before_2016 = df[df['Year'] < 2016]['Revenue']\n",
    "after_2016 = df[df['Year'] >= 2016]['Revenue']\n",
    "\n",
    "# Thực hiện kiểm định T-test\n",
    "ttest_result = stats.ttest_ind(before_2016, after_2016, equal_var=False)  # Welch’s T-test\n",
    "\n",
    "print(f\"T-Test result for Revenue before and after 2016: p-value = {ttest_result.pvalue}\")\n",
    "\n",
    "if ttest_result.pvalue < alpha:\n",
    "    print(\"Có sự khác biệt đáng kể về doanh thu trung bình trước và sau năm 2016.\")\n",
    "else:\n",
    "    print(\"Không có sự khác biệt đáng kể về doanh thu trung bình trước và sau năm 2016.\")"
   ]
  },
  {
   "cell_type": "markdown",
   "metadata": {},
   "source": [
    "## 1.4. Giả thuyết 4\n",
    "\n",
    "### Kiểm định tương quan Pearson: Doanh thu và số lượng bán có tương quan dương?\n",
    "- $\\mathcal{H}_0$: Không có mối tương quan đáng kể giữa doanh thu và số lượng bán.\n",
    "- $\\mathcal{H}_1$: Có tương quan giữa doanh thu và số lượng bán."
   ]
  },
  {
   "cell_type": "code",
   "execution_count": 7,
   "metadata": {},
   "outputs": [
    {
     "name": "stdout",
     "output_type": "stream",
     "text": [
      "Pearson Correlation giữa Units và Revenue: r = 0.32574882047269005, p-value = 0.0\n",
      "Có mối tương quan đáng kể giữa số lượng bán và doanh thu.\n"
     ]
    }
   ],
   "source": [
    "# Tính hệ số tương quan Pearson\n",
    "corr_coef, p_value = stats.pearsonr(df['Units'], df['Revenue'])\n",
    "\n",
    "print(f\"Pearson Correlation giữa Units và Revenue: r = {corr_coef}, p-value = {p_value}\")\n",
    "\n",
    "if p_value < alpha:\n",
    "    print(\"Có mối tương quan đáng kể giữa số lượng bán và doanh thu.\")\n",
    "else:\n",
    "    print(\"Không có mối tương quan đáng kể giữa số lượng bán và doanh thu.\")"
   ]
  },
  {
   "cell_type": "markdown",
   "metadata": {},
   "source": [
    "## 1.5. Giả thuyết 5\n",
    "\n",
    "### Kiểm định ANOVA: COGS có khác nhau giữa các phân khúc sản phẩm?\n",
    "- $\\mathcal{H}_0$: Không có sự khác biệt đáng kể về COGS giữa các phân khúc (Segment).\n",
    "- $\\mathcal{H}_1$: Có ít nhất một phân khúc có COGS khác biệt đáng kể"
   ]
  },
  {
   "cell_type": "code",
   "execution_count": 8,
   "metadata": {},
   "outputs": [
    {
     "name": "stdout",
     "output_type": "stream",
     "text": [
      "ANOVA test result for COGS across Segments: p-value = 0.0\n",
      "Có sự khác biệt đáng kể về COGS giữa các phân khúc sản phẩm.\n"
     ]
    }
   ],
   "source": [
    "# Nhóm COGS theo Segment\n",
    "segments = df['Segment'].unique()\n",
    "cogs_by_segment = [df[df['Segment'] == segment]['COGS'] for segment in segments]\n",
    "\n",
    "# Thực hiện kiểm định ANOVA\n",
    "anova_result_cogs = stats.f_oneway(*cogs_by_segment)\n",
    "\n",
    "print(f\"ANOVA test result for COGS across Segments: p-value = {anova_result_cogs.pvalue}\")\n",
    "\n",
    "if anova_result_cogs.pvalue < alpha:\n",
    "    print(\"Có sự khác biệt đáng kể về COGS giữa các phân khúc sản phẩm.\")\n",
    "else:\n",
    "    print(\"Không có sự khác biệt đáng kể về COGS giữa các phân khúc sản phẩm.\")"
   ]
  },
  {
   "cell_type": "markdown",
   "metadata": {},
   "source": [
    "## 2. Tạo đặc trưng mới và thực hiện kiểm chứng các giả thuyết"
   ]
  },
  {
   "cell_type": "code",
   "execution_count": 9,
   "metadata": {},
   "outputs": [],
   "source": [
    "# Tạo cột Lợi nhuận (Profit)\n",
    "df['Profit'] = df['Revenue'] - df['COGS']\n",
    "\n",
    "# Tạo cột Doanh thu trung bình mỗi đơn vị sản phẩm\n",
    "df['Revenue_per_unit'] = df['Revenue'] / df['Units']\n",
    "\n",
    "# Tạo cột Lợi nhuận trung bình mỗi đơn vị sản phẩm\n",
    "df['Profit_per_unit'] = df['Profit'] / df['Units']\n",
    "\n",
    "# Xử lý các giá trị NaN (do phép chia có thể tạo ra NaN khi Units = 0)\n",
    "df.replace([np.inf, -np.inf], np.nan, inplace=True)\n",
    "df.dropna(inplace=True)\n",
    "\n",
    "# Tạo cột Weekday (1-7, với Monday=0)\n",
    "df['Weekday'] = df['Date'].dt.weekday\n",
    "df['Is_Weekend'] = df['Weekday'].apply(lambda x: 1 if x >= 5 else 0)  # 1 = Cuối tuần, 0 = Ngày thường"
   ]
  },
  {
   "cell_type": "code",
   "execution_count": 10,
   "metadata": {},
   "outputs": [
    {
     "name": "stdout",
     "output_type": "stream",
     "text": [
      "<class 'pandas.core.frame.DataFrame'>\n",
      "RangeIndex: 901561 entries, 0 to 901560\n",
      "Data columns (total 19 columns):\n",
      " #   Column            Non-Null Count   Dtype         \n",
      "---  ------            --------------   -----         \n",
      " 0   ProductID         901561 non-null  int64         \n",
      " 1   Date              901561 non-null  datetime64[ns]\n",
      " 2   Zip               901561 non-null  int64         \n",
      " 3   Units             901561 non-null  int64         \n",
      " 4   Revenue           901561 non-null  float64       \n",
      " 5   COGS              901561 non-null  float64       \n",
      " 6   City              901561 non-null  object        \n",
      " 7   State             901561 non-null  object        \n",
      " 8   Region            901561 non-null  object        \n",
      " 9   District          901561 non-null  object        \n",
      " 10  Category          901561 non-null  object        \n",
      " 11  Segment           901561 non-null  object        \n",
      " 12  Product           901561 non-null  object        \n",
      " 13  Year              901561 non-null  int32         \n",
      " 14  Profit            901561 non-null  float64       \n",
      " 15  Revenue_per_unit  901561 non-null  float64       \n",
      " 16  Profit_per_unit   901561 non-null  float64       \n",
      " 17  Weekday           901561 non-null  int32         \n",
      " 18  Is_Weekend        901561 non-null  int64         \n",
      "dtypes: datetime64[ns](1), float64(5), int32(2), int64(4), object(7)\n",
      "memory usage: 123.8+ MB\n"
     ]
    }
   ],
   "source": [
    "df.info()"
   ]
  },
  {
   "cell_type": "markdown",
   "metadata": {},
   "source": [
    "## 2.1. Giả thuyết 6\n",
    "\n",
    "### Kiểm định ANOVA: Lợi nhuận trung bình có khác biệt giữa các khu vực?\n",
    "- $\\mathcal{H}_0$: Không có sự khác biệt về lợi nhuận trung bình giữa các khu vực.\n",
    "- $\\mathcal{H}_1$: Có ít nhất một khu vực có lợi nhuận trung bình khác biệt đáng kể."
   ]
  },
  {
   "cell_type": "code",
   "execution_count": 11,
   "metadata": {},
   "outputs": [
    {
     "name": "stdout",
     "output_type": "stream",
     "text": [
      "ANOVA test result for Profit across Regions: p-value = 2.499182978740946e-302\n",
      "Có sự khác biệt đáng kể về lợi nhuận trung bình giữa các khu vực.\n"
     ]
    }
   ],
   "source": [
    "regions = df['Region'].unique()\n",
    "profit_by_region = [df[df['Region'] == region]['Profit'] for region in regions]\n",
    "\n",
    "anova_result_profit = stats.f_oneway(*profit_by_region)\n",
    "\n",
    "print(f\"ANOVA test result for Profit across Regions: p-value = {anova_result_profit.pvalue}\")\n",
    "\n",
    "if anova_result_profit.pvalue < 0.05:\n",
    "    print(\"Có sự khác biệt đáng kể về lợi nhuận trung bình giữa các khu vực.\")\n",
    "else:\n",
    "    print(\"Không có sự khác biệt đáng kể về lợi nhuận giữa các khu vực.\")"
   ]
  },
  {
   "cell_type": "markdown",
   "metadata": {},
   "source": [
    "## 2.2. Giả thuyết 7\n",
    "\n",
    "### Kiểm định xu hướng Mann-Kendall: Doanh thu trung bình có xu hướng tăng qua các năm không?\n",
    "- $\\mathcal{H}_0$: Không có xu hướng tăng hoặc giảm rõ ràng của doanh thu theo thời gian.\n",
    "- $\\mathcal{H}_1$: Doanh thu có xu hướng tăng hoặc giảm theo thời gian."
   ]
  },
  {
   "cell_type": "code",
   "execution_count": 12,
   "metadata": {},
   "outputs": [
    {
     "name": "stdout",
     "output_type": "stream",
     "text": [
      "Mann-Kendall trend test result: decreasing, p-value = 0.0\n"
     ]
    }
   ],
   "source": [
    "# Sắp xếp dữ liệu theo ngày\n",
    "df_sorted = df.groupby('Date').agg({'Revenue': 'sum'}).reset_index()\n",
    "\n",
    "# Thực hiện kiểm định xu hướng Mann-Kendall\n",
    "trend_result = original_test(df_sorted['Revenue'])\n",
    "\n",
    "print(f\"Mann-Kendall trend test result: {trend_result.trend}, p-value = {trend_result.p}\")"
   ]
  },
  {
   "cell_type": "markdown",
   "metadata": {},
   "source": [
    "## 2.3. Giả thuyết 8\n",
    "\n",
    "### Kiểm định ANOVA: Giá bán trung bình có khác biệt giữa các danh mục sản phẩm?\n",
    "- $\\mathcal{H}_0$: Không có sự khác biệt đáng kể về giá bán trung bình giữa các danh mục sản phẩm.\n",
    "- $\\mathcal{H}_1$: Có ít nhất một danh mục có giá bán trung bình khác biệt đáng kể."
   ]
  },
  {
   "cell_type": "code",
   "execution_count": 13,
   "metadata": {},
   "outputs": [
    {
     "name": "stdout",
     "output_type": "stream",
     "text": [
      "ANOVA test result for Revenue_per_unit across Categories: p-value = 0.0\n",
      "Có sự khác biệt đáng kể về giá bán trung bình giữa các danh mục sản phẩm.\n"
     ]
    }
   ],
   "source": [
    "categories = df['Category'].unique()\n",
    "revenue_per_unit_by_category = [df[df['Category'] == category]['Revenue_per_unit'] for category in categories]\n",
    "\n",
    "anova_result_rpu = stats.f_oneway(*revenue_per_unit_by_category)\n",
    "\n",
    "print(f\"ANOVA test result for Revenue_per_unit across Categories: p-value = {anova_result_rpu.pvalue}\")\n",
    "\n",
    "if anova_result_rpu.pvalue < 0.05:\n",
    "    print(\"Có sự khác biệt đáng kể về giá bán trung bình giữa các danh mục sản phẩm.\")\n",
    "else:\n",
    "    print(\"Không có sự khác biệt đáng kể về giá bán trung bình giữa các danh mục sản phẩm.\")"
   ]
  },
  {
   "cell_type": "markdown",
   "metadata": {},
   "source": [
    "## 2.4. Giả thuyết 9\n",
    "\n",
    "### Kiểm định Kruskal-Wallis: Lợi nhuận trung bình mỗi đơn vị có khác nhau giữa các khu vực?\n",
    "- $\\mathcal{H}_0$: Không có sự khác biệt đáng kể về lợi nhuận trung bình mỗi đơn vị (Profit_per_unit) giữa các khu vực.\n",
    "- $\\mathcal{H}_1$: Có ít nhất một khu vực có lợi nhuận trung bình mỗi đơn vị khác biệt đáng kể."
   ]
  },
  {
   "cell_type": "code",
   "execution_count": 14,
   "metadata": {},
   "outputs": [
    {
     "name": "stdout",
     "output_type": "stream",
     "text": [
      "Kruskal-Wallis test result for Profit_per_unit across Regions: p-value = 2.3181445544012354e-199\n",
      "Có sự khác biệt đáng kể về lợi nhuận trung bình mỗi đơn vị giữa các khu vực.\n"
     ]
    }
   ],
   "source": [
    "kruskal_result = stats.kruskal(*[df[df['Region'] == region]['Profit_per_unit'] for region in df['Region'].unique()])\n",
    "\n",
    "print(f\"Kruskal-Wallis test result for Profit_per_unit across Regions: p-value = {kruskal_result.pvalue}\")\n",
    "\n",
    "if kruskal_result.pvalue < 0.05:\n",
    "    print(\"Có sự khác biệt đáng kể về lợi nhuận trung bình mỗi đơn vị giữa các khu vực.\")\n",
    "else:\n",
    "    print(\"Không có sự khác biệt đáng kể về lợi nhuận trung bình mỗi đơn vị giữa các khu vực.\")"
   ]
  },
  {
   "cell_type": "markdown",
   "metadata": {},
   "source": [
    "## 2.5. Giả thuyết 10\n",
    "\n",
    "### T-Test: Doanh thu vào cuối tuần và ngày thường có khác biệt không?\n",
    "- $\\mathcal{H}_0$: Không có sự khác biệt về doanh thu trung bình giữa ngày cuối tuần và ngày thường.\n",
    "- $\\mathcal{H}_1$: Doanh thu trung bình có sự khác biệt giữa ngày cuối tuần và ngày thường."
   ]
  },
  {
   "cell_type": "code",
   "execution_count": 15,
   "metadata": {},
   "outputs": [
    {
     "name": "stdout",
     "output_type": "stream",
     "text": [
      "T-Test result for Revenue on weekends vs weekdays: p-value = 3.7298184822298854e-17\n",
      "Có sự khác biệt đáng kể về doanh thu trung bình giữa ngày cuối tuần và ngày thường.\n"
     ]
    }
   ],
   "source": [
    "weekend_revenue = df[df['Is_Weekend'] == 1]['Revenue']\n",
    "weekday_revenue = df[df['Is_Weekend'] == 0]['Revenue']\n",
    "\n",
    "t_test_weekend = stats.ttest_ind(weekend_revenue, weekday_revenue, equal_var=False)\n",
    "\n",
    "print(f\"T-Test result for Revenue on weekends vs weekdays: p-value = {t_test_weekend.pvalue}\")\n",
    "\n",
    "if t_test_weekend.pvalue < 0.05:\n",
    "    print(\"Có sự khác biệt đáng kể về doanh thu trung bình giữa ngày cuối tuần và ngày thường.\")\n",
    "else:\n",
    "    print(\"Không có sự khác biệt đáng kể về doanh thu giữa ngày cuối tuần và ngày thường.\")\n"
   ]
  },
  {
   "cell_type": "markdown",
   "metadata": {},
   "source": [
    "# 3. Tính toán các độ đo kinh tế học và kiểm chứng giả thuyết"
   ]
  },
  {
   "cell_type": "code",
   "execution_count": 16,
   "metadata": {},
   "outputs": [],
   "source": [
    "# Tạo chỉ số Tỷ suất lợi nhuận gộp (Gross Margin Rate - GMR)\n",
    "df['Gross_Margin_Rate'] = (df['Profit'] / df['Revenue']) * 100\n",
    "\n",
    "# Tạo chỉ số Tỷ suất lợi nhuận trên chi phí (Return on Cost - ROC)\n",
    "df['Return_on_Cost'] = (df['Profit'] / df['COGS']) * 100\n",
    "\n",
    "# Tạo chỉ số Tỷ lệ bán hàng theo từng sản phẩm (Sales Share per Product - SSPP)\n",
    "total_units_sold = df['Units'].sum()\n",
    "df['Sales_Share_per_Product'] = df['Units'] / total_units_sold\n",
    "\n",
    "# Tạo chỉ số Tỷ lệ doanh thu theo từng khu vực (Revenue Share by Region - RSR)\n",
    "df['Revenue_Share_by_Region'] = df.groupby('Region')['Revenue'].transform(lambda x: x / x.sum())\n",
    "\n",
    "# Tạo chỉ số Hệ số biến động doanh thu theo tuần (Revenue Variability - RV)\n",
    "df['Week'] = df['Date'].dt.isocalendar().week\n",
    "df_weekly = df.groupby(['Year', 'Week']).agg({'Revenue': ['mean', 'std']}).reset_index()\n",
    "df_weekly.columns = ['Year', 'Week', 'Revenue_Mean', 'Revenue_Std']\n",
    "df_weekly['Revenue_Variability'] = df_weekly['Revenue_Std'] / df_weekly['Revenue_Mean']\n",
    "\n",
    "# Gộp trở lại với `df`\n",
    "df = df.merge(df_weekly[['Year', 'Week', 'Revenue_Variability']], on=['Year', 'Week'], how='left')"
   ]
  },
  {
   "cell_type": "code",
   "execution_count": 17,
   "metadata": {},
   "outputs": [
    {
     "name": "stdout",
     "output_type": "stream",
     "text": [
      "<class 'pandas.core.frame.DataFrame'>\n",
      "RangeIndex: 901561 entries, 0 to 901560\n",
      "Data columns (total 25 columns):\n",
      " #   Column                   Non-Null Count   Dtype         \n",
      "---  ------                   --------------   -----         \n",
      " 0   ProductID                901561 non-null  int64         \n",
      " 1   Date                     901561 non-null  datetime64[ns]\n",
      " 2   Zip                      901561 non-null  int64         \n",
      " 3   Units                    901561 non-null  int64         \n",
      " 4   Revenue                  901561 non-null  float64       \n",
      " 5   COGS                     901561 non-null  float64       \n",
      " 6   City                     901561 non-null  object        \n",
      " 7   State                    901561 non-null  object        \n",
      " 8   Region                   901561 non-null  object        \n",
      " 9   District                 901561 non-null  object        \n",
      " 10  Category                 901561 non-null  object        \n",
      " 11  Segment                  901561 non-null  object        \n",
      " 12  Product                  901561 non-null  object        \n",
      " 13  Year                     901561 non-null  int32         \n",
      " 14  Profit                   901561 non-null  float64       \n",
      " 15  Revenue_per_unit         901561 non-null  float64       \n",
      " 16  Profit_per_unit          901561 non-null  float64       \n",
      " 17  Weekday                  901561 non-null  int32         \n",
      " 18  Is_Weekend               901561 non-null  int64         \n",
      " 19  Gross_Margin_Rate        901561 non-null  float64       \n",
      " 20  Return_on_Cost           901561 non-null  float64       \n",
      " 21  Sales_Share_per_Product  901561 non-null  float64       \n",
      " 22  Revenue_Share_by_Region  901561 non-null  float64       \n",
      " 23  Week                     901561 non-null  UInt32        \n",
      " 24  Revenue_Variability      901561 non-null  float64       \n",
      "dtypes: UInt32(1), datetime64[ns](1), float64(10), int32(2), int64(4), object(7)\n",
      "memory usage: 162.5+ MB\n"
     ]
    }
   ],
   "source": [
    "df.info()"
   ]
  },
  {
   "cell_type": "markdown",
   "metadata": {},
   "source": [
    "## 3.1. Giả thuyết 11\n",
    "\n",
    "### Kiểm chứng ANOVA: Tỷ suất lợi nhuận gộp có khác nhau giữa các khu vực?\n",
    "- $\\mathcal{H}_0$: Không có sự khác biệt về tỷ suất lợi nhuận gộp giữa các khu vực.\n",
    "- $\\mathcal{H}_1$: Có ít nhất một khu vực có tỷ suất lợi nhuận gộp khác biệt đáng kể."
   ]
  },
  {
   "cell_type": "code",
   "execution_count": 18,
   "metadata": {},
   "outputs": [
    {
     "name": "stdout",
     "output_type": "stream",
     "text": [
      "ANOVA test result for Gross Margin Rate across Regions: p-value = 3.8835903696967476e-27\n",
      "Có sự khác biệt đáng kể về tỷ suất lợi nhuận gộp giữa các khu vực.\n"
     ]
    }
   ],
   "source": [
    "regions = df['Region'].unique()\n",
    "gmr_by_region = [df[df['Region'] == region]['Gross_Margin_Rate'].dropna() for region in regions]\n",
    "\n",
    "anova_result_gmr = stats.f_oneway(*gmr_by_region)\n",
    "\n",
    "print(f\"ANOVA test result for Gross Margin Rate across Regions: p-value = {anova_result_gmr.pvalue}\")\n",
    "\n",
    "if anova_result_gmr.pvalue < 0.05:\n",
    "    print(\"Có sự khác biệt đáng kể về tỷ suất lợi nhuận gộp giữa các khu vực.\")\n",
    "else:\n",
    "    print(\"Không có sự khác biệt đáng kể về tỷ suất lợi nhuận gộp giữa các khu vực.\")"
   ]
  },
  {
   "cell_type": "markdown",
   "metadata": {},
   "source": [
    "## 3.2. Giả thuyết 12\n",
    "\n",
    "### Kiểm chứng Kruskal-Wallis: Tỷ suất lợi nhuận trên chi phí có khác nhau giữa các danh mục sản phẩm?\n",
    "- $\\mathcal{H}_0$: Không có sự khác biệt về tỷ suất lợi nhuận trên chi phí giữa các danh mục sản phẩm.\n",
    "- $\\mathcal{H}_1$: Có ít nhất một danh mục có tỷ suất lợi nhuận trên chi phí khác biệt đáng kể."
   ]
  },
  {
   "cell_type": "code",
   "execution_count": 19,
   "metadata": {},
   "outputs": [
    {
     "name": "stdout",
     "output_type": "stream",
     "text": [
      "Kruskal-Wallis test for Return on Cost across Categories: p-value = 0.0\n",
      "Có sự khác biệt đáng kể về tỷ suất lợi nhuận trên chi phí giữa các danh mục sản phẩm.\n"
     ]
    }
   ],
   "source": [
    "categories = df['Category'].unique()\n",
    "roc_by_category = [df[df['Category'] == category]['Return_on_Cost'].dropna() for category in categories]\n",
    "\n",
    "kruskal_result_roc = stats.kruskal(*roc_by_category)\n",
    "\n",
    "print(f\"Kruskal-Wallis test for Return on Cost across Categories: p-value = {kruskal_result_roc.pvalue}\")\n",
    "\n",
    "if kruskal_result_roc.pvalue < 0.05:\n",
    "    print(\"Có sự khác biệt đáng kể về tỷ suất lợi nhuận trên chi phí giữa các danh mục sản phẩm.\")\n",
    "else:\n",
    "    print(\"Không có sự khác biệt đáng kể về tỷ suất lợi nhuận trên chi phí giữa các danh mục sản phẩm.\")"
   ]
  },
  {
   "cell_type": "markdown",
   "metadata": {},
   "source": [
    "## 3.3. Giả thuyết 13\n",
    "\n",
    "### Kiểm chứng Chi-square: Các sản phẩm có đóng góp khác nhau vào tổng số lượng bán?\n",
    "- $\\mathcal{H}_0$: Không có sự khác biệt đáng kể về tỷ lệ bán hàng giữa các sản phẩm.\n",
    "- $\\mathcal{H}_1$: Có sự khác biệt đáng kể về tỷ lệ bán hàng giữa các sản phẩm."
   ]
  },
  {
   "cell_type": "code",
   "execution_count": 20,
   "metadata": {},
   "outputs": [
    {
     "name": "stdout",
     "output_type": "stream",
     "text": [
      "Chi-square test result for Sales Share per Product: p-value = 0.0\n",
      "Có sự khác biệt đáng kể về tỷ lệ bán hàng giữa các sản phẩm.\n"
     ]
    }
   ],
   "source": [
    "from scipy.stats import chisquare\n",
    "\n",
    "# Lấy số lượng bán của từng sản phẩm\n",
    "product_sales = df.groupby('Product')['Units'].sum()\n",
    "\n",
    "# Kiểm định Chi-square\n",
    "chi2_result = chisquare(product_sales)\n",
    "\n",
    "print(f\"Chi-square test result for Sales Share per Product: p-value = {chi2_result.pvalue}\")\n",
    "\n",
    "if chi2_result.pvalue < 0.05:\n",
    "    print(\"Có sự khác biệt đáng kể về tỷ lệ bán hàng giữa các sản phẩm.\")\n",
    "else:\n",
    "    print(\"Không có sự khác biệt đáng kể về tỷ lệ bán hàng giữa các sản phẩm.\")"
   ]
  },
  {
   "cell_type": "markdown",
   "metadata": {},
   "source": [
    "## 3.4. Giả thuyết 14\n",
    "\n",
    "### Kiểm chứng tương quan Pearson: Biến động doanh thu giữa các tuần có ảnh hưởng đến lợi nhuận?\n",
    "- $\\mathcal{H}_0$: Không có tương quan giữa biến động doanh thu và lợi nhuận.\n",
    "- $\\mathcal{H}_1$: Có mối tương quan giữa biến động doanh thu và lợi nhuận."
   ]
  },
  {
   "cell_type": "code",
   "execution_count": 21,
   "metadata": {},
   "outputs": [
    {
     "name": "stdout",
     "output_type": "stream",
     "text": [
      "Pearson Correlation between Revenue Variability and Profit: r = -0.0601227418376245, p-value = 0.0\n",
      "Có mối tương quan đáng kể giữa biến động doanh thu và lợi nhuận.\n"
     ]
    }
   ],
   "source": [
    "corr_coef, p_value = stats.pearsonr(df['Revenue_Variability'], df['Profit'])\n",
    "\n",
    "print(f\"Pearson Correlation between Revenue Variability and Profit: r = {corr_coef}, p-value = {p_value}\")\n",
    "\n",
    "if p_value < 0.05:\n",
    "    print(\"Có mối tương quan đáng kể giữa biến động doanh thu và lợi nhuận.\")\n",
    "else:\n",
    "    print(\"Không có mối tương quan đáng kể giữa biến động doanh thu và lợi nhuận.\")"
   ]
  },
  {
   "cell_type": "markdown",
   "metadata": {},
   "source": [
    "## 3.5. Giả thuyết 15\n",
    "\n",
    "### Kiểm chứng ANOVA/Kruskal-Wallis: Doanh thu có bị ảnh hưởng bởi mùa không?\n",
    "- $\\mathcal{H}_0$: Không có sự khác biệt đáng kể về doanh thu giữa các mùa.\n",
    "- $\\mathcal{H}_1$: Có ít nhất một mùa có doanh thu khác biệt đáng kể."
   ]
  },
  {
   "cell_type": "code",
   "execution_count": 22,
   "metadata": {},
   "outputs": [],
   "source": [
    "# Xác định mùa dựa trên tháng\n",
    "def get_season(month):\n",
    "    if month in [12, 1, 2]:\n",
    "        return 'Winter'\n",
    "    elif month in [3, 4, 5]:\n",
    "        return 'Spring'\n",
    "    elif month in [6, 7, 8]:\n",
    "        return 'Summer'\n",
    "    else:\n",
    "        return 'Fall'\n",
    "\n",
    "df['Season'] = df['Date'].dt.month.apply(get_season)"
   ]
  },
  {
   "cell_type": "code",
   "execution_count": 23,
   "metadata": {},
   "outputs": [],
   "source": [
    "from pandas.tseries.holiday import USFederalHolidayCalendar\n",
    "\n",
    "# Lấy danh sách ngày lễ của Mỹ\n",
    "cal = USFederalHolidayCalendar()\n",
    "holidays = cal.holidays(start=df['Date'].min(), end=df['Date'].max())\n",
    "\n",
    "# Tạo cột xác định ngày có phải là ngày lễ hay không\n",
    "df['Is_Holiday'] = df['Date'].isin(holidays).astype(int)"
   ]
  },
  {
   "cell_type": "code",
   "execution_count": 24,
   "metadata": {},
   "outputs": [],
   "source": [
    "df_variability_by_region = df.groupby('Region')['Revenue_Variability'].mean().reset_index()"
   ]
  },
  {
   "cell_type": "code",
   "execution_count": 25,
   "metadata": {},
   "outputs": [
    {
     "name": "stdout",
     "output_type": "stream",
     "text": [
      "ANOVA test for Revenue across Seasons: p-value = 0.0\n",
      "Có sự khác biệt đáng kể về doanh thu giữa các mùa.\n"
     ]
    }
   ],
   "source": [
    "seasons = df['Season'].unique()\n",
    "revenue_by_season = [df[df['Season'] == season]['Revenue'] for season in seasons]\n",
    "\n",
    "anova_result_season = stats.f_oneway(*revenue_by_season)\n",
    "\n",
    "print(f\"ANOVA test for Revenue across Seasons: p-value = {anova_result_season.pvalue}\")\n",
    "\n",
    "if anova_result_season.pvalue < 0.05:\n",
    "    print(\"Có sự khác biệt đáng kể về doanh thu giữa các mùa.\")\n",
    "else:\n",
    "    print(\"Không có sự khác biệt đáng kể về doanh thu giữa các mùa.\")"
   ]
  },
  {
   "cell_type": "markdown",
   "metadata": {},
   "source": [
    "## 3.6. Giả thuyết 16\n",
    "\n",
    "### Kiểm chứng Chi-square Test / ANOVA: Tỷ suất lợi nhuận theo năm có thay đổi không?\n",
    "- $\\mathcal{H}_0$: Không có sự khác biệt đáng kể về tỷ suất lợi nhuận giữa các năm.\n",
    "- $\\mathcal{H}_1$: Có ít nhất một năm có tỷ suất lợi nhuận khác biệt đáng kể."
   ]
  },
  {
   "cell_type": "code",
   "execution_count": 26,
   "metadata": {},
   "outputs": [
    {
     "name": "stdout",
     "output_type": "stream",
     "text": [
      "ANOVA test for Gross Margin Rate across Years: p-value = 2.4320826252348236e-235\n",
      "Có sự khác biệt đáng kể về tỷ suất lợi nhuận giữa các năm.\n"
     ]
    }
   ],
   "source": [
    "years = df['Year'].unique()\n",
    "profit_rate_by_year = [df[df['Year'] == year]['Gross_Margin_Rate'] for year in years]\n",
    "\n",
    "anova_result_profit_year = stats.f_oneway(*profit_rate_by_year)\n",
    "\n",
    "print(f\"ANOVA test for Gross Margin Rate across Years: p-value = {anova_result_profit_year.pvalue}\")\n",
    "\n",
    "if anova_result_profit_year.pvalue < 0.05:\n",
    "    print(\"Có sự khác biệt đáng kể về tỷ suất lợi nhuận giữa các năm.\")\n",
    "else:\n",
    "    print(\"Không có sự khác biệt đáng kể về tỷ suất lợi nhuận giữa các năm.\")"
   ]
  },
  {
   "cell_type": "markdown",
   "metadata": {},
   "source": [
    "## 3.7. Giả thuyết 17\n",
    "\n",
    "### Kiểm chứng Kruskal-Wallis: Hệ số biến động doanh thu có khác nhau giữa các khu vực?\n",
    "- $\\mathcal{H}_0$: Không có sự khác biệt đáng kể về hệ số biến động doanh thu giữa các khu vực.\n",
    "- $\\mathcal{H}_1$: Có ít nhất một khu vực có hệ số biến động doanh thu khác biệt đáng kể."
   ]
  },
  {
   "cell_type": "code",
   "execution_count": 27,
   "metadata": {},
   "outputs": [
    {
     "name": "stdout",
     "output_type": "stream",
     "text": [
      "Kruskal-Wallis test for Revenue Variability across Regions: p-value = 0.0\n",
      "Có sự khác biệt đáng kể về biến động doanh thu giữa các khu vực.\n"
     ]
    }
   ],
   "source": [
    "regions = df['Region'].unique()\n",
    "variability_by_region = [df[df['Region'] == region]['Revenue_Variability'] for region in regions]\n",
    "\n",
    "kruskal_result_variability = stats.kruskal(*variability_by_region)\n",
    "\n",
    "print(f\"Kruskal-Wallis test for Revenue Variability across Regions: p-value = {kruskal_result_variability.pvalue}\")\n",
    "\n",
    "if kruskal_result_variability.pvalue < 0.05:\n",
    "    print(\"Có sự khác biệt đáng kể về biến động doanh thu giữa các khu vực.\")\n",
    "else:\n",
    "    print(\"Không có sự khác biệt đáng kể về biến động doanh thu giữa các khu vực.\")"
   ]
  },
  {
   "cell_type": "markdown",
   "metadata": {},
   "source": [
    "## 3.8. Giả thuyết 18\n",
    "\n",
    "### Kiểm chứng T-Test: Doanh thu vào các ngày nghỉ lễ có cao hơn ngày thường không?\n",
    "- $\\mathcal{H}_0$: Không có sự khác biệt đáng kể về doanh thu giữa ngày lễ và ngày thường.\n",
    "- $\\mathcal{H}_1$: Có sự khác biệt đáng kể về doanh thu giữa ngày lễ và ngày thường."
   ]
  },
  {
   "cell_type": "code",
   "execution_count": 28,
   "metadata": {},
   "outputs": [
    {
     "name": "stdout",
     "output_type": "stream",
     "text": [
      "T-Test for Revenue on Holidays vs Non-Holidays: p-value = 0.008387078738983929\n",
      "Có sự khác biệt đáng kể về doanh thu giữa ngày lễ và ngày thường.\n"
     ]
    }
   ],
   "source": [
    "holiday_revenue = df[df['Is_Holiday'] == 1]['Revenue']\n",
    "non_holiday_revenue = df[df['Is_Holiday'] == 0]['Revenue']\n",
    "\n",
    "t_test_holiday = stats.ttest_ind(holiday_revenue, non_holiday_revenue, equal_var=False)\n",
    "\n",
    "print(f\"T-Test for Revenue on Holidays vs Non-Holidays: p-value = {t_test_holiday.pvalue}\")\n",
    "\n",
    "if t_test_holiday.pvalue < 0.05:\n",
    "    print(\"Có sự khác biệt đáng kể về doanh thu giữa ngày lễ và ngày thường.\")\n",
    "else:\n",
    "    print(\"Không có sự khác biệt đáng kể về doanh thu giữa ngày lễ và ngày thường.\")"
   ]
  }
 ],
 "metadata": {
  "kernelspec": {
   "display_name": "Python 3",
   "language": "python",
   "name": "python3"
  },
  "language_info": {
   "codemirror_mode": {
    "name": "ipython",
    "version": 3
   },
   "file_extension": ".py",
   "mimetype": "text/x-python",
   "name": "python",
   "nbconvert_exporter": "python",
   "pygments_lexer": "ipython3",
   "version": "3.12.0"
  }
 },
 "nbformat": 4,
 "nbformat_minor": 2
}
