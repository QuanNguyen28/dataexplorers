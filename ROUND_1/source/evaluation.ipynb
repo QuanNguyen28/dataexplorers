{
 "cells": [
  {
   "cell_type": "code",
   "execution_count": 1,
   "metadata": {},
   "outputs": [],
   "source": [
    "import torch\n",
    "from scipy.stats import norm\n",
    "\n",
    "from models.dcf import DistributionalConditionalForecast\n",
    "from models.pft import ProbabilisticForecastTransformer\n",
    "from models.cqv import ConditionalQuantileVAE\n",
    "\n",
    "from loader import test_loader"
   ]
  },
  {
   "cell_type": "code",
   "execution_count": 2,
   "metadata": {},
   "outputs": [],
   "source": [
    "device = torch.device(\"cuda\" if torch.cuda.is_available() else \"cpu\")"
   ]
  },
  {
   "cell_type": "code",
   "execution_count": 3,
   "metadata": {},
   "outputs": [
    {
     "name": "stdout",
     "output_type": "stream",
     "text": [
      "Models loaded successfully!\n"
     ]
    }
   ],
   "source": [
    "dcf = DistributionalConditionalForecast(\n",
    "    window_size=30, \n",
    "\tnum_series=2, \n",
    "\tstatic_dim=18,\n",
    "    latent_dim=32, \n",
    "\thidden_dim=128,\n",
    "    dropout=0.1, \n",
    "\toutput_dim=2\n",
    ")\n",
    "\n",
    "dcf.to(device)\n",
    "checkpoint = torch.load(\"checkpoints/DCF.pth\", map_location=device)\n",
    "dcf.load_state_dict(checkpoint[\"model_state_dict\"])\n",
    "dcf.eval()\n",
    "\n",
    "pft = ProbabilisticForecastTransformer(\n",
    "\twindow_size=30, \n",
    "\tnum_series=2, \n",
    "\tstatic_dim=18,\n",
    "    latent_dim=32, \n",
    "\td_model=64, \n",
    "\tnhead=4, \n",
    "\tnum_layers=2,\n",
    "    hidden_dim=128, \n",
    "\tdropout=0.1, \n",
    "\toutput_dim=2\n",
    ")\n",
    "\n",
    "pft.to(device)\n",
    "checkpoint = torch.load(\"checkpoints/PFT.pth\", map_location=device)\n",
    "pft.load_state_dict(checkpoint[\"model_state_dict\"])\n",
    "pft.eval()\n",
    "\n",
    "cqv = ConditionalQuantileVAE(\n",
    "\twindow_size=30, \n",
    "\tnum_series=2, \n",
    "\tstatic_dim=18,\n",
    "    latent_dim=32, \n",
    "\thidden_dim=128,\n",
    "    dropout=0.1, \n",
    "\toutput_dim=2, \n",
    "\tnum_quantiles=3\n",
    ")\n",
    "\n",
    "cqv.to(device)\n",
    "checkpoint = torch.load(\"checkpoints/CQV.pth\", map_location=device)\n",
    "cqv.load_state_dict(checkpoint[\"model_state_dict\"])\n",
    "cqv.eval()\n",
    "\n",
    "print(\"Models loaded successfully!\")"
   ]
  },
  {
   "cell_type": "code",
   "execution_count": 4,
   "metadata": {},
   "outputs": [],
   "source": [
    "def evaluate(model, confidence=0.95):\n",
    "\ttotal = 0\n",
    "\tcount = 0\n",
    "\tz = norm.ppf((1 + confidence) / 2)\n",
    "\twith torch.no_grad():\n",
    "\t\tfor x_seq, x_cal, y in test_loader:\n",
    "\t\t\tx_seq, x_cal, y = x_seq.to(device), x_cal.to(device), y.to(device)\n",
    "\t\t\tout, _, _ = model(x_seq, x_cal)\n",
    "\t\t\tmu = out[:, :2]\n",
    "\t\t\tlogvar = out[:, 2:4]\n",
    "\t\t\tsigma = torch.exp(0.5 * logvar)\n",
    "\t\t\tlower = mu - z * sigma\n",
    "\t\t\tupper = mu + z * sigma\n",
    "\t\t\tinside = ((y >= lower) & (y <= upper)).float()\n",
    "\t\t\tcount += inside.sum().item()\n",
    "\t\t\ttotal += y.numel()\n",
    "\n",
    "\tcoverage = count / total\n",
    "\tprint(f\"Coverage of {confidence * 100}% confidence interval: {coverage * 100:.2f}%\")"
   ]
  },
  {
   "cell_type": "code",
   "execution_count": 5,
   "metadata": {},
   "outputs": [
    {
     "name": "stdout",
     "output_type": "stream",
     "text": [
      "Coverage of 95.0% confidence interval: 86.73%\n",
      "Coverage of 90.0% confidence interval: 81.49%\n",
      "Coverage of 80.0% confidence interval: 72.77%\n"
     ]
    }
   ],
   "source": [
    "evaluate(dcf, confidence=0.95)\n",
    "evaluate(dcf, confidence=0.90)\n",
    "evaluate(dcf, confidence=0.80)"
   ]
  },
  {
   "cell_type": "code",
   "execution_count": 6,
   "metadata": {},
   "outputs": [
    {
     "name": "stdout",
     "output_type": "stream",
     "text": [
      "Coverage of 95.0% confidence interval: 95.45%\n",
      "Coverage of 90.0% confidence interval: 91.19%\n",
      "Coverage of 80.0% confidence interval: 83.07%\n"
     ]
    }
   ],
   "source": [
    "evaluate(pft, confidence=0.95)\n",
    "evaluate(pft, confidence=0.90)\n",
    "evaluate(pft, confidence=0.80)"
   ]
  },
  {
   "cell_type": "code",
   "execution_count": 7,
   "metadata": {},
   "outputs": [
    {
     "name": "stdout",
     "output_type": "stream",
     "text": [
      "Coverage of 95.0% confidence interval: 100.00%\n",
      "Coverage of 90.0% confidence interval: 100.00%\n",
      "Coverage of 80.0% confidence interval: 100.00%\n"
     ]
    }
   ],
   "source": [
    "evaluate(cqv, confidence=0.95)\n",
    "evaluate(cqv, confidence=0.90)\n",
    "evaluate(cqv, confidence=0.80)"
   ]
  },
  {
   "cell_type": "code",
   "execution_count": 8,
   "metadata": {},
   "outputs": [
    {
     "name": "stdout",
     "output_type": "stream",
     "text": [
      "DCF has 99140 parameters\n",
      "PFT has 648196 parameters\n",
      "CQV has 99398 parameters\n"
     ]
    }
   ],
   "source": [
    "# Count the number of parameters in each model\n",
    "print(f\"DCF has {sum(p.numel() for p in dcf.parameters())} parameters\")\n",
    "print(f\"PFT has {sum(p.numel() for p in pft.parameters())} parameters\")\n",
    "print(f\"CQV has {sum(p.numel() for p in cqv.parameters())} parameters\")"
   ]
  }
 ],
 "metadata": {
  "kernelspec": {
   "display_name": "env",
   "language": "python",
   "name": "python3"
  },
  "language_info": {
   "codemirror_mode": {
    "name": "ipython",
    "version": 3
   },
   "file_extension": ".py",
   "mimetype": "text/x-python",
   "name": "python",
   "nbconvert_exporter": "python",
   "pygments_lexer": "ipython3",
   "version": "3.12.0"
  }
 },
 "nbformat": 4,
 "nbformat_minor": 2
}
