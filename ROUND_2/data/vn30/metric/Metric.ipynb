{
 "cells": [
  {
   "cell_type": "code",
   "execution_count": 3,
   "metadata": {},
   "outputs": [
    {
     "name": "stdout",
     "output_type": "stream",
     "text": [
      "✅ Gộp dữ liệu hoàn tất! File lưu thành 'Merged_data.csv'\n"
     ]
    }
   ],
   "source": [
    "import pandas as pd\n",
    "\n",
    "# Danh sách file cụ thể\n",
    "file_paths = [\n",
    "    \"ACB.csv\", \"BCM.csv\", \"BID.csv\", \"BVH.csv\", \"CTG.csv\", \"FPT.csv\", \"GAS.csv\", \"GVR.csv\", \"HDB.csv\", \"HPG.csv\",\n",
    "    \"LPB.csv\", \"MBB.csv\", \"MSN.csv\", \"MWG.csv\", \"PLX.csv\", \"SAB.csv\", \"SHB.csv\", \"SSB.csv\", \"SSI.csv\", \"STB.csv\",\n",
    "    \"TCB.csv\", \"TPB.csv\", \"VCB.csv\", \"VHM.csv\", \"VIB.csv\", \"VIC.csv\", \"VJC.csv\", \"VNM.csv\", \"VPB.csv\", \"VRE.csv\"\n",
    "]\n",
    "\n",
    "# Chỉ giữ lại các cột cần thiết\n",
    "columns_needed = ['period', 'quarter', 'year', 'price_to_earning', 'price_to_book', 'roe', 'earning_per_share']\n",
    "\n",
    "# Đọc và gộp dữ liệu\n",
    "df_list = []\n",
    "for file in file_paths:\n",
    "    try:\n",
    "        df = pd.read_csv(file)[columns_needed]  # Chỉ lấy các cột cần thiết\n",
    "        df[\"company\"] = file.replace(\".csv\", \"\")  # Thêm cột tên công ty\n",
    "        df_list.append(df)\n",
    "    except Exception as e:\n",
    "        print(f\"Lỗi khi đọc file {file}: {e}\")\n",
    "\n",
    "df_combined = pd.concat(df_list, ignore_index=True)\n",
    "\n",
    "# Lưu file kết quả\n",
    "df_combined.to_csv(\"Merged_data.csv\", index=False)\n",
    "\n",
    "print(\"✅ Gộp dữ liệu hoàn tất! File lưu thành 'Merged_data.csv'\")\n"
   ]
  },
  {
   "cell_type": "markdown",
   "metadata": {},
   "source": [
    "## 1.1. Giả thuyết 1\n",
    "\n",
    "### Kiểm định ANOVA: P/E, PB, ROE, EPS trung bình có khác biệt giữa các công ty?\n",
    "- $\\mathcal{H}_0$ (Giả thuyết không): Không có sự khác biệt đáng kể giữa các công ty.\n",
    "- $\\mathcal{H}_1$ (Giả thuyết đối): Ít nhất một công ty có tiêu chí khác biệt đáng kể."
   ]
  },
  {
   "cell_type": "code",
   "execution_count": 53,
   "metadata": {},
   "outputs": [
    {
     "name": "stdout",
     "output_type": "stream",
     "text": [
      "🔹 ANOVA cho price_to_earning: F-statistic = 5.7699, p-value = 0.0000\n",
      "  → Có sự khác biệt đáng kể về price_to_earning giữa các công ty (p < 0.05)\n",
      "\n",
      "🔹 ANOVA cho price_to_book: F-statistic = 53.7497, p-value = 0.0000\n",
      "  → Có sự khác biệt đáng kể về price_to_book giữa các công ty (p < 0.05)\n",
      "\n",
      "🔹 ANOVA cho roe: F-statistic = 31.7958, p-value = 0.0000\n",
      "  → Có sự khác biệt đáng kể về roe giữa các công ty (p < 0.05)\n",
      "\n",
      "🔹 ANOVA cho earning_per_share: F-statistic = 38.2516, p-value = 0.0000\n",
      "  → Có sự khác biệt đáng kể về earning_per_share giữa các công ty (p < 0.05)\n",
      "\n"
     ]
    }
   ],
   "source": [
    "import scipy.stats as stats\n",
    "\n",
    "# Danh sách tiêu chí cần kiểm định\n",
    "criteria = ['price_to_earning', 'price_to_book', 'roe', 'earning_per_share']\n",
    "\n",
    "for criterion in criteria:\n",
    "    # Tạo danh sách nhóm dữ liệu hợp lệ\n",
    "    groups = [df_combined[df_combined['company'] == company][criterion].dropna() \n",
    "              for company in df_combined['company'].unique()]\n",
    "    \n",
    "    # Kiểm tra xem có ít nhất 2 nhóm hợp lệ không\n",
    "    if len(groups) < 2 or any(len(group) < 2 for group in groups):\n",
    "        print(f\"⚠️ Không đủ dữ liệu để thực hiện ANOVA cho {criterion} (cần ít nhất 2 nhóm có từ 2 mẫu trở lên)\\n\")\n",
    "        continue\n",
    "\n",
    "    # Kiểm định ANOVA\n",
    "    stat, p_value = stats.f_oneway(*groups)\n",
    "    \n",
    "    print(f\"🔹 ANOVA cho {criterion}: F-statistic = {stat:.4f}, p-value = {p_value:.4f}\")\n",
    "\n",
    "    # Kiểm tra ý nghĩa thống kê\n",
    "    if p_value < 0.05:\n",
    "        print(f\"  → Có sự khác biệt đáng kể về {criterion} giữa các công ty (p < 0.05)\\n\")\n",
    "    else:\n",
    "        print(f\"  → Không có sự khác biệt đáng kể về {criterion} giữa các công ty (p >= 0.05)\\n\")\n"
   ]
  },
  {
   "cell_type": "markdown",
   "metadata": {},
   "source": [
    "## 1.2. Giả thuyết 2\n",
    "\n",
    "###  T-Test: Các tiêu chí trung bình trước và sau năm 2020 có khác biệt đáng kể?\n",
    "- $\\mathcal{H}_0$: Không có sự khác biệt đáng kể về các tiêu chí trung bình trước và sau năm 2020.\n",
    "- $\\mathcal{H}_1$: Có sự khác biệt đáng kể về doanh thu trung bình giữa hai giai đoạn."
   ]
  },
  {
   "cell_type": "code",
   "execution_count": 43,
   "metadata": {},
   "outputs": [
    {
     "name": "stdout",
     "output_type": "stream",
     "text": [
      "🔹 Kiểm định T-Test cho price_to_earning:\n",
      "   - T-Statistic: -2.0929\n",
      "   - P-Value: 0.0366\n",
      "   ✅ Có sự khác biệt có ý nghĩa thống kê giữa trước và sau 2020.\n",
      "--------------------------------------------------\n",
      "🔹 Kiểm định T-Test cho price_to_book:\n",
      "   - T-Statistic: 4.0618\n",
      "   - P-Value: 0.0001\n",
      "   ✅ Có sự khác biệt có ý nghĩa thống kê giữa trước và sau 2020.\n",
      "--------------------------------------------------\n",
      "🔹 Kiểm định T-Test cho roe:\n",
      "   - T-Statistic: 3.4436\n",
      "   - P-Value: 0.0006\n",
      "   ✅ Có sự khác biệt có ý nghĩa thống kê giữa trước và sau 2020.\n",
      "--------------------------------------------------\n",
      "🔹 Kiểm định T-Test cho earning_per_share:\n",
      "   - T-Statistic: -3.4525\n",
      "   - P-Value: 0.0006\n",
      "   ✅ Có sự khác biệt có ý nghĩa thống kê giữa trước và sau 2020.\n",
      "--------------------------------------------------\n"
     ]
    }
   ],
   "source": [
    "import pandas as pd\n",
    "from scipy.stats import ttest_ind\n",
    "\n",
    "\n",
    "# Chuyển đổi kiểu dữ liệu của cột 'year' (nếu chưa phải số)\n",
    "df_combined['year'] = pd.to_numeric(df_combined['year'], errors='coerce')\n",
    "\n",
    "# Tách dữ liệu thành hai nhóm\n",
    "df_before_2020 = df_combined[df_combined['year'] < 2020]\n",
    "df_after_2020 = df_combined[df_combined['year'] >= 2020]\n",
    "\n",
    "# Danh sách các tiêu chí cần kiểm định\n",
    "criteria = ['price_to_earning', 'price_to_book', 'roe', 'earning_per_share']\n",
    "\n",
    "# Thực hiện T-Test cho từng tiêu chí\n",
    "t_test_results = {}\n",
    "for crit in criteria:\n",
    "    t_stat, p_value = ttest_ind(df_before_2020[crit].dropna(), df_after_2020[crit].dropna(), equal_var=False)\n",
    "    t_test_results[crit] = {'T-Statistic': t_stat, 'P-Value': p_value}\n",
    "\n",
    "# Hiển thị kết quả\n",
    "for crit, result in t_test_results.items():\n",
    "    print(f\"🔹 Kiểm định T-Test cho {crit}:\")\n",
    "    print(f\"   - T-Statistic: {result['T-Statistic']:.4f}\")\n",
    "    print(f\"   - P-Value: {result['P-Value']:.4f}\")\n",
    "    if result['P-Value'] < 0.05:\n",
    "        print(\"   ✅ Có sự khác biệt có ý nghĩa thống kê giữa trước và sau 2020.\")\n",
    "    else:\n",
    "        print(\"   ❌ Không có sự khác biệt đáng kể giữa trước và sau 2020.\")\n",
    "    print(\"-\" * 50)\n"
   ]
  },
  {
   "cell_type": "markdown",
   "metadata": {},
   "source": [
    "## 1.3. Giả thuyết 3\n",
    "\n",
    "###  T-Test: Các tiêu chí trung bình giữa nhóm ngành ngân hàng và bất động sản có khác biệt đáng kể?\n",
    "- $\\mathcal{H}_0$: Không có sự khác biệt đáng kể giữa nhóm ngành ngân hàng và bất động sản.\n",
    "- $\\mathcal{H}_1$: Có sự khác biệt đáng kể về doanh thu trung bình giữa hai giai đoạn."
   ]
  },
  {
   "cell_type": "code",
   "execution_count": 15,
   "metadata": {},
   "outputs": [
    {
     "name": "stdout",
     "output_type": "stream",
     "text": [
      "🔹 Tiêu chí: price_to_earning\n",
      "   - T-statistic: -2.7742\n",
      "   - P-value: 0.0064\n",
      "   ✅ Kết luận: Có sự khác biệt có ý nghĩa thống kê giữa hai nhóm\n",
      "\n",
      "🔹 Tiêu chí: price_to_book\n",
      "   - T-statistic: -9.0976\n",
      "   - P-value: 0.0000\n",
      "   ✅ Kết luận: Có sự khác biệt có ý nghĩa thống kê giữa hai nhóm\n",
      "\n",
      "🔹 Tiêu chí: roe\n",
      "   - T-statistic: 3.7414\n",
      "   - P-value: 0.0003\n",
      "   ✅ Kết luận: Có sự khác biệt có ý nghĩa thống kê giữa hai nhóm\n",
      "\n",
      "🔹 Tiêu chí: earning_per_share\n",
      "   - T-statistic: -2.4577\n",
      "   - P-value: 0.0154\n",
      "   ✅ Kết luận: Có sự khác biệt có ý nghĩa thống kê giữa hai nhóm\n",
      "\n"
     ]
    }
   ],
   "source": [
    "import pandas as pd\n",
    "from scipy.stats import ttest_ind\n",
    "\n",
    "\n",
    "# Xác định nhóm công ty\n",
    "banking_companies = [\"ACB\", \"BID\", \"CTG\", \"HDB\", \"LPB\", \"MBB\", \"SHB\", \"SSB\", \"STB\", \"TCB\", \"TPB\", \"VCB\", \"VIB\", \"VPB\"]\n",
    "real_estate_companies = [\"BCM\", \"VHM\", \"VIC\", \"VRE\"]\n",
    "\n",
    "# Lọc dữ liệu theo từng nhóm\n",
    "df_banking = df_combined[df_combined[\"company\"].isin(banking_companies)]\n",
    "df_real_estate = df_combined[df_combined[\"company\"].isin(real_estate_companies)]\n",
    "\n",
    "# Các tiêu chí cần kiểm định\n",
    "criteria = [\"price_to_earning\", \"price_to_book\", \"roe\", \"earning_per_share\"]\n",
    "\n",
    "# Tiến hành kiểm định T-test cho từng tiêu chí\n",
    "results = {}\n",
    "for criterion in criteria:\n",
    "    t_stat, p_value = ttest_ind(df_banking[criterion].dropna(), df_real_estate[criterion].dropna(), equal_var=False)\n",
    "    results[criterion] = {\"t-statistic\": t_stat, \"p-value\": p_value}\n",
    "\n",
    "# Hiển thị kết quả\n",
    "for criterion, res in results.items():\n",
    "    print(f\"🔹 Tiêu chí: {criterion}\")\n",
    "    print(f\"   - T-statistic: {res['t-statistic']:.4f}\")\n",
    "    print(f\"   - P-value: {res['p-value']:.4f}\")\n",
    "    if res[\"p-value\"] < 0.05:\n",
    "        print(\"   ✅ Kết luận: Có sự khác biệt có ý nghĩa thống kê giữa hai nhóm\\n\")\n",
    "    else:\n",
    "        print(\"   ❌ Kết luận: Không có sự khác biệt đáng kể giữa hai nhóm\\n\")\n"
   ]
  },
  {
   "cell_type": "code",
   "execution_count": 8,
   "metadata": {},
   "outputs": [
    {
     "name": "stdout",
     "output_type": "stream",
     "text": [
      "Index(['period', 'quarter', 'year', 'price_to_earning', 'price_to_book', 'roe',\n",
      "       'earning_per_share', 'company'],\n",
      "      dtype='object')\n"
     ]
    }
   ],
   "source": [
    "print(df_combined.columns)  # Kiểm tra các cột có trong DataFrame\n"
   ]
  },
  {
   "cell_type": "markdown",
   "metadata": {},
   "source": [
    "## 1.4. Giả thuyết 4\n",
    "\n",
    "### Kiểm định xu hướng Mann-Kendall: Các tiêu chí P/E/ P/B, ROE, EPS có xu hướng tăng/giảm theo thời gian không?\n",
    "- $\\mathcal{H}_0$: Không có xu hướng tăng hoặc giảm rõ ràng của các tiêu chí theo thời gian.\n",
    "- $\\mathcal{H}_1$: Có xu hướng tăng hoặc giảm theo thời gian."
   ]
  },
  {
   "cell_type": "code",
   "execution_count": 18,
   "metadata": {},
   "outputs": [
    {
     "name": "stdout",
     "output_type": "stream",
     "text": [
      "✅ Kiểm định Mann-Kendall hoàn tất! Kết quả được lưu trong 'mann_kendall_results.csv'.\n"
     ]
    },
    {
     "data": {
      "text/html": [
       "<div>\n",
       "<style scoped>\n",
       "    .dataframe tbody tr th:only-of-type {\n",
       "        vertical-align: middle;\n",
       "    }\n",
       "\n",
       "    .dataframe tbody tr th {\n",
       "        vertical-align: top;\n",
       "    }\n",
       "\n",
       "    .dataframe thead th {\n",
       "        text-align: right;\n",
       "    }\n",
       "</style>\n",
       "<table border=\"1\" class=\"dataframe\">\n",
       "  <thead>\n",
       "    <tr style=\"text-align: right;\">\n",
       "      <th></th>\n",
       "      <th>company</th>\n",
       "      <th>criteria</th>\n",
       "      <th>trend</th>\n",
       "      <th>p_value</th>\n",
       "    </tr>\n",
       "  </thead>\n",
       "  <tbody>\n",
       "    <tr>\n",
       "      <th>0</th>\n",
       "      <td>HDB</td>\n",
       "      <td>price_to_earning</td>\n",
       "      <td>decreasing</td>\n",
       "      <td>8.279607e-05</td>\n",
       "    </tr>\n",
       "    <tr>\n",
       "      <th>1</th>\n",
       "      <td>HDB</td>\n",
       "      <td>price_to_book</td>\n",
       "      <td>decreasing</td>\n",
       "      <td>1.168305e-02</td>\n",
       "    </tr>\n",
       "    <tr>\n",
       "      <th>2</th>\n",
       "      <td>HDB</td>\n",
       "      <td>roe</td>\n",
       "      <td>increasing</td>\n",
       "      <td>1.070137e-10</td>\n",
       "    </tr>\n",
       "    <tr>\n",
       "      <th>3</th>\n",
       "      <td>HDB</td>\n",
       "      <td>earning_per_share</td>\n",
       "      <td>increasing</td>\n",
       "      <td>5.995204e-14</td>\n",
       "    </tr>\n",
       "    <tr>\n",
       "      <th>4</th>\n",
       "      <td>ACB</td>\n",
       "      <td>price_to_earning</td>\n",
       "      <td>decreasing</td>\n",
       "      <td>7.797287e-07</td>\n",
       "    </tr>\n",
       "    <tr>\n",
       "      <th>5</th>\n",
       "      <td>ACB</td>\n",
       "      <td>price_to_book</td>\n",
       "      <td>no trend</td>\n",
       "      <td>5.257137e-01</td>\n",
       "    </tr>\n",
       "    <tr>\n",
       "      <th>6</th>\n",
       "      <td>ACB</td>\n",
       "      <td>roe</td>\n",
       "      <td>increasing</td>\n",
       "      <td>8.540264e-05</td>\n",
       "    </tr>\n",
       "    <tr>\n",
       "      <th>7</th>\n",
       "      <td>ACB</td>\n",
       "      <td>earning_per_share</td>\n",
       "      <td>increasing</td>\n",
       "      <td>0.000000e+00</td>\n",
       "    </tr>\n",
       "    <tr>\n",
       "      <th>8</th>\n",
       "      <td>BID</td>\n",
       "      <td>price_to_earning</td>\n",
       "      <td>no trend</td>\n",
       "      <td>6.080288e-01</td>\n",
       "    </tr>\n",
       "    <tr>\n",
       "      <th>9</th>\n",
       "      <td>BID</td>\n",
       "      <td>price_to_book</td>\n",
       "      <td>no trend</td>\n",
       "      <td>1.602768e-01</td>\n",
       "    </tr>\n",
       "    <tr>\n",
       "      <th>10</th>\n",
       "      <td>BID</td>\n",
       "      <td>roe</td>\n",
       "      <td>no trend</td>\n",
       "      <td>4.013799e-01</td>\n",
       "    </tr>\n",
       "    <tr>\n",
       "      <th>11</th>\n",
       "      <td>BID</td>\n",
       "      <td>earning_per_share</td>\n",
       "      <td>increasing</td>\n",
       "      <td>2.735978e-08</td>\n",
       "    </tr>\n",
       "  </tbody>\n",
       "</table>\n",
       "</div>"
      ],
      "text/plain": [
       "   company           criteria       trend       p_value\n",
       "0      HDB   price_to_earning  decreasing  8.279607e-05\n",
       "1      HDB      price_to_book  decreasing  1.168305e-02\n",
       "2      HDB                roe  increasing  1.070137e-10\n",
       "3      HDB  earning_per_share  increasing  5.995204e-14\n",
       "4      ACB   price_to_earning  decreasing  7.797287e-07\n",
       "5      ACB      price_to_book    no trend  5.257137e-01\n",
       "6      ACB                roe  increasing  8.540264e-05\n",
       "7      ACB  earning_per_share  increasing  0.000000e+00\n",
       "8      BID   price_to_earning    no trend  6.080288e-01\n",
       "9      BID      price_to_book    no trend  1.602768e-01\n",
       "10     BID                roe    no trend  4.013799e-01\n",
       "11     BID  earning_per_share  increasing  2.735978e-08"
      ]
     },
     "execution_count": 18,
     "metadata": {},
     "output_type": "execute_result"
    }
   ],
   "source": [
    "import pandas as pd\n",
    "import numpy as np\n",
    "import pymannkendall as mk\n",
    "\n",
    "# Đảm bảo dữ liệu được sắp xếp theo thời gian\n",
    "df_combined = df_combined.sort_values(by=[\"year\", \"quarter\"])\n",
    "\n",
    "# Chọn các tiêu chí cần kiểm định\n",
    "columns_to_test = [\"price_to_earning\", \"price_to_book\", \"roe\", \"earning_per_share\"]\n",
    "\n",
    "# Kiểm định Mann-Kendall cho từng công ty\n",
    "results = []\n",
    "for company in df_combined[\"company\"].unique():\n",
    "    df_company = df_combined[df_combined[\"company\"] == company]\n",
    "    \n",
    "    for col in columns_to_test:\n",
    "        trend_result = mk.original_test(df_company[col].dropna())  # Sửa chỗ này\n",
    "        \n",
    "        results.append({\n",
    "            \"company\": company,\n",
    "            \"criteria\": col,\n",
    "            \"trend\": trend_result.trend,  # Xu hướng: 'increasing', 'decreasing', 'no trend'\n",
    "            \"p_value\": trend_result.p\n",
    "        })\n",
    "\n",
    "# Chuyển kết quả thành DataFrame\n",
    "df_results = pd.DataFrame(results)\n",
    "\n",
    "# Lưu kết quả\n",
    "df_results.to_csv(\"Mann_kendall_results.csv\", index=False)\n",
    "\n",
    "print(\"✅ Kiểm định Mann-Kendall hoàn tất! Kết quả được lưu trong 'mann_kendall_results.csv'.\")\n",
    "df_results.head(12)\n"
   ]
  },
  {
   "cell_type": "markdown",
   "metadata": {},
   "source": [
    "## 1.5. Giả thuyết 5\n",
    "\n",
    "###  T-Test: Các tiêu chí trung bình giữa 2 qúy đầu năm và 2 quý cuối năm có khác biệt đáng kể?\n",
    "- $\\mathcal{H}_0$: Không có sự khác biệt đáng kể giữa 2 qúy đầu năm và 2 quý cuối năm.\n",
    "- $\\mathcal{H}_1$: Có sự khác biệt đáng kể về trung bình các tiêu chí giữa hai giai đoạn."
   ]
  },
  {
   "cell_type": "code",
   "execution_count": 50,
   "metadata": {},
   "outputs": [
    {
     "name": "stdout",
     "output_type": "stream",
     "text": [
      "📌 Kết quả kiểm định T-Test giữa 2 quý đầu và 2 quý sau:\n",
      "\n",
      "🔹 price_to_earning:\n",
      "   T-Statistic = -1.2386\n",
      "   P-Value     = 0.2158\n",
      "   ❌ Kết luận: Không có sự khác biệt đáng kể giữa 2 quý đầu và 2 quý sau.\n",
      "\n",
      "🔹 price_to_book:\n",
      "   T-Statistic = 0.2235\n",
      "   P-Value     = 0.8232\n",
      "   ❌ Kết luận: Không có sự khác biệt đáng kể giữa 2 quý đầu và 2 quý sau.\n",
      "\n",
      "🔹 roe:\n",
      "   T-Statistic = 0.0845\n",
      "   P-Value     = 0.9326\n",
      "   ❌ Kết luận: Không có sự khác biệt đáng kể giữa 2 quý đầu và 2 quý sau.\n",
      "\n",
      "🔹 earning_per_share:\n",
      "   T-Statistic = -1.0155\n",
      "   P-Value     = 0.3101\n",
      "   ❌ Kết luận: Không có sự khác biệt đáng kể giữa 2 quý đầu và 2 quý sau.\n"
     ]
    }
   ],
   "source": [
    "import pandas as pd\n",
    "from scipy import stats\n",
    "\n",
    "# Chỉ lấy các cột cần thiết\n",
    "columns_needed = ['quarter', 'price_to_earning', 'price_to_book', 'roe', 'earning_per_share']\n",
    "df1 = df_combined[columns_needed]\n",
    "\n",
    "# Chia dữ liệu thành hai nhóm: 2 quý đầu và 2 quý sau\n",
    "df1_q1_q2 = df1[df1['quarter'].isin([1, 2])]  # Nhóm quý 1, 2\n",
    "df1_q3_q4 = df1[df1['quarter'].isin([3, 4])]  # Nhóm quý 3, 4\n",
    "\n",
    "# Danh sách các tiêu chí để kiểm định\n",
    "criteria = ['price_to_earning', 'price_to_book', 'roe', 'earning_per_share']\n",
    "\n",
    "# Thực hiện kiểm định T-Test\n",
    "results = {}\n",
    "for criterion in criteria:\n",
    "    t_stat, p_value = stats.ttest_ind(df1_q1_q2[criterion].dropna(), df1_q3_q4[criterion].dropna(), equal_var=False)\n",
    "    results[criterion] = {\"T-Statistic\": t_stat, \"P-Value\": p_value}\n",
    "\n",
    "# In kết quả kiểm định\n",
    "print(\"📌 Kết quả kiểm định T-Test giữa 2 quý đầu và 2 quý sau:\")\n",
    "for key, value in results.items():\n",
    "    print(f\"\\n🔹 {key}:\")\n",
    "    print(f\"   T-Statistic = {value['T-Statistic']:.4f}\")\n",
    "    print(f\"   P-Value     = {value['P-Value']:.4f}\")\n",
    "\n",
    "    # Đánh giá kết quả\n",
    "    if value[\"P-Value\"] < 0.05:\n",
    "        print(\"   ✅ Kết luận: Có sự khác biệt đáng kể giữa 2 quý đầu và 2 quý sau.\")\n",
    "    else:\n",
    "        print(\"   ❌ Kết luận: Không có sự khác biệt đáng kể giữa 2 quý đầu và 2 quý sau.\")\n"
   ]
  },
  {
   "cell_type": "markdown",
   "metadata": {},
   "source": [
    "## 1.6. Giả thuyết 6\n",
    "\n",
    "### Kiểm định tương quan Pearson: Các tiêu chí có tương quan dương?\n",
    "- $\\mathcal{H}_0$: Không có mối tương quan đáng kể giữa các tiêu chí.\n",
    "- $\\mathcal{H}_1$: Có tương quan giữa các tiêu chí."
   ]
  },
  {
   "cell_type": "code",
   "execution_count": 22,
   "metadata": {},
   "outputs": [
    {
     "data": {
      "image/png": "[encoded data removed]",
      "text/plain": [
       "<Figure size 800x600 with 2 Axes>"
      ]
     },
     "metadata": {},
     "output_type": "display_data"
    },
    {
     "name": "stdout",
     "output_type": "stream",
     "text": [
      "\n",
      "✅ Ma trận p-value (kiểm định ý nghĩa thống kê):\n"
     ]
    },
    {
     "data": {
      "text/html": [
       "<div>\n",
       "<style scoped>\n",
       "    .dataframe tbody tr th:only-of-type {\n",
       "        vertical-align: middle;\n",
       "    }\n",
       "\n",
       "    .dataframe tbody tr th {\n",
       "        vertical-align: top;\n",
       "    }\n",
       "\n",
       "    .dataframe thead th {\n",
       "        text-align: right;\n",
       "    }\n",
       "</style>\n",
       "<table border=\"1\" class=\"dataframe\">\n",
       "  <thead>\n",
       "    <tr style=\"text-align: right;\">\n",
       "      <th></th>\n",
       "      <th>price_to_earning</th>\n",
       "      <th>price_to_book</th>\n",
       "      <th>roe</th>\n",
       "      <th>earning_per_share</th>\n",
       "    </tr>\n",
       "  </thead>\n",
       "  <tbody>\n",
       "    <tr>\n",
       "      <th>price_to_earning</th>\n",
       "      <td>1.000000e+00</td>\n",
       "      <td>1.208417e-07</td>\n",
       "      <td>3.915086e-08</td>\n",
       "      <td>1.457037e-03</td>\n",
       "    </tr>\n",
       "    <tr>\n",
       "      <th>price_to_book</th>\n",
       "      <td>1.208417e-07</td>\n",
       "      <td>1.000000e+00</td>\n",
       "      <td>2.952686e-42</td>\n",
       "      <td>1.704635e-39</td>\n",
       "    </tr>\n",
       "    <tr>\n",
       "      <th>roe</th>\n",
       "      <td>3.915086e-08</td>\n",
       "      <td>2.952686e-42</td>\n",
       "      <td>1.000000e+00</td>\n",
       "      <td>8.917200e-136</td>\n",
       "    </tr>\n",
       "    <tr>\n",
       "      <th>earning_per_share</th>\n",
       "      <td>1.457037e-03</td>\n",
       "      <td>1.704635e-39</td>\n",
       "      <td>8.917200e-136</td>\n",
       "      <td>1.000000e+00</td>\n",
       "    </tr>\n",
       "  </tbody>\n",
       "</table>\n",
       "</div>"
      ],
      "text/plain": [
       "                   price_to_earning  price_to_book            roe  \\\n",
       "price_to_earning       1.000000e+00   1.208417e-07   3.915086e-08   \n",
       "price_to_book          1.208417e-07   1.000000e+00   2.952686e-42   \n",
       "roe                    3.915086e-08   2.952686e-42   1.000000e+00   \n",
       "earning_per_share      1.457037e-03   1.704635e-39  8.917200e-136   \n",
       "\n",
       "                   earning_per_share  \n",
       "price_to_earning        1.457037e-03  \n",
       "price_to_book           1.704635e-39  \n",
       "roe                    8.917200e-136  \n",
       "earning_per_share       1.000000e+00  "
      ]
     },
     "execution_count": 22,
     "metadata": {},
     "output_type": "execute_result"
    }
   ],
   "source": [
    "import pandas as pd\n",
    "import seaborn as sns\n",
    "import matplotlib.pyplot as plt\n",
    "from scipy import stats\n",
    "\n",
    "\n",
    "# Chọn các cột cần phân tích\n",
    "columns_of_interest = ['price_to_earning', 'price_to_book', 'roe', 'earning_per_share']\n",
    "df_selected = df_combined[columns_of_interest].dropna()  # Loại bỏ dữ liệu bị thiếu\n",
    "\n",
    "# Tính ma trận hệ số tương quan Pearson\n",
    "correlation_matrix = df_selected.corr(method='pearson')\n",
    "\n",
    "# Vẽ heatmap biểu diễn ma trận tương quan\n",
    "plt.figure(figsize=(8,6))\n",
    "sns.heatmap(correlation_matrix, annot=False, cmap='coolwarm')\n",
    "plt.title(\"Ma trận tương quan Pearson giữa P/E, P/B, ROE, EPS\")\n",
    "plt.show()\n",
    "\n",
    "# Tính p-value cho từng cặp biến\n",
    "p_values = df_selected.corr(method=lambda x, y: stats.pearsonr(x, y)[1])  # Lấy p-value\n",
    "\n",
    "print(\"\\n✅ Ma trận p-value (kiểm định ý nghĩa thống kê):\")\n",
    "p_values.head()\n"
   ]
  },
  {
   "cell_type": "markdown",
   "metadata": {},
   "source": [
    "📌 $\\textbf{Kết luận}$\n",
    "- Hệ số tương quan dương mạnh nhất:\n",
    "\n",
    "    - ROE và EPS có tương quan mạnh (0.678, p-value ≈ 0), tức là ROE tăng thì EPS cũng có xu hướng tăng đáng kể.\n",
    "\n",
    "    - P/B và ROE có tương quan dương khá cao (0.412, p-value ≈ 0), nghĩa là ROE cao thường đi kèm với giá trị sổ sách trên cổ phiếu cao hơn.\n",
    "\n",
    "- Hệ số tương quan âm:\n",
    "    - P/E và ROE có tương quan âm nhỏ (-0.173, p-value ≈ 0), cho thấy khi ROE tăng thì P/E có xu hướng giảm nhẹ (có thể do nhà đầu tư trả giá thấp hơn cho cổ phiếu có lợi nhuận cao).\n",
    "\n",
    "- P-value rất nhỏ (<0.05) ở hầu hết các cặp, chứng tỏ các mối quan hệ đều có ý nghĩa thống kê.\n",
    "\n",
    "👉 Tóm lại: EPS, ROE và P/B có mối tương quan đáng kể, trong khi P/E có tương quan yếu hơn với các tiêu chí khác."
   ]
  },
  {
   "cell_type": "markdown",
   "metadata": {},
   "source": [
    "## 1.7. Giả thuyết 7\n",
    "\n",
    "### Kiểm định Kruskal-Wallis: Các tiêu chí trung bình có khác nhau giữa các công ty?\n",
    "- $\\mathcal{H}_0$: Không có sự khác biệt đáng kể về trung bình các tiêu chí (P/E, P/B, ROE, EPS) giữa các khu vực.\n",
    "- $\\mathcal{H}_1$: Có ít nhất một khu vực có tiêu chí khác biệt đáng kể."
   ]
  },
  {
   "cell_type": "code",
   "execution_count": 23,
   "metadata": {},
   "outputs": [
    {
     "name": "stdout",
     "output_type": "stream",
     "text": [
      "Kết quả kiểm định Kruskal-Wallis cho price_to_earning:\n",
      "  - Hệ số thống kê (H): 556.4345\n",
      "  - Giá trị p: 0.0000\n",
      "  ✅ Kết luận: Có sự khác biệt đáng kể\n",
      "--------------------------------------------------\n",
      "Kết quả kiểm định Kruskal-Wallis cho price_to_book:\n",
      "  - Hệ số thống kê (H): 649.7852\n",
      "  - Giá trị p: 0.0000\n",
      "  ✅ Kết luận: Có sự khác biệt đáng kể\n",
      "--------------------------------------------------\n",
      "Kết quả kiểm định Kruskal-Wallis cho roe:\n",
      "  - Hệ số thống kê (H): 540.9364\n",
      "  - Giá trị p: 0.0000\n",
      "  ✅ Kết luận: Có sự khác biệt đáng kể\n",
      "--------------------------------------------------\n",
      "Kết quả kiểm định Kruskal-Wallis cho earning_per_share:\n",
      "  - Hệ số thống kê (H): 524.8949\n",
      "  - Giá trị p: 0.0000\n",
      "  ✅ Kết luận: Có sự khác biệt đáng kể\n",
      "--------------------------------------------------\n"
     ]
    }
   ],
   "source": [
    "import pandas as pd\n",
    "from scipy.stats import kruskal\n",
    "\n",
    "# Xác định danh sách tiêu chí cần kiểm định\n",
    "criteria = [\"price_to_earning\", \"price_to_book\", \"roe\", \"earning_per_share\"]\n",
    "\n",
    "# Thực hiện kiểm định Kruskal-Wallis\n",
    "results = {}\n",
    "\n",
    "for criterion in criteria:\n",
    "    groups = [df_combined[df_combined[\"company\"] == company][criterion].dropna() \n",
    "              for company in df_combined[\"company\"].unique()]\n",
    "    \n",
    "    stat, p_value = kruskal(*groups)\n",
    "    results[criterion] = (stat, p_value, \"Có sự khác biệt đáng kể\" if p_value < 0.05 else \"Không có sự khác biệt đáng kể\")\n",
    "\n",
    "# Hiển thị kết quả\n",
    "for criterion, (stat, p_value, conclusion) in results.items():\n",
    "    print(f\"Kết quả kiểm định Kruskal-Wallis cho {criterion}:\")\n",
    "    print(f\"  - Hệ số thống kê (H): {stat:.4f}\")\n",
    "    print(f\"  - Giá trị p: {p_value:.4f}\")\n",
    "    print(f\"  ✅ Kết luận: {conclusion}\")\n",
    "    print(\"-\" * 50)\n"
   ]
  },
  {
   "cell_type": "markdown",
   "metadata": {},
   "source": [
    "## 2. Tạo đặc trưng mới và thực hiện kiểm chứng các giả thuyết"
   ]
  },
  {
   "cell_type": "code",
   "execution_count": 26,
   "metadata": {},
   "outputs": [
    {
     "data": {
      "text/html": [
       "<div>\n",
       "<style scoped>\n",
       "    .dataframe tbody tr th:only-of-type {\n",
       "        vertical-align: middle;\n",
       "    }\n",
       "\n",
       "    .dataframe tbody tr th {\n",
       "        vertical-align: top;\n",
       "    }\n",
       "\n",
       "    .dataframe thead th {\n",
       "        text-align: right;\n",
       "    }\n",
       "</style>\n",
       "<table border=\"1\" class=\"dataframe\">\n",
       "  <thead>\n",
       "    <tr style=\"text-align: right;\">\n",
       "      <th></th>\n",
       "      <th>period</th>\n",
       "      <th>quarter</th>\n",
       "      <th>year</th>\n",
       "      <th>price_to_earning</th>\n",
       "      <th>price_to_book</th>\n",
       "      <th>roe</th>\n",
       "      <th>earning_per_share</th>\n",
       "      <th>company</th>\n",
       "      <th>industry</th>\n",
       "    </tr>\n",
       "  </thead>\n",
       "  <tbody>\n",
       "    <tr>\n",
       "      <th>316</th>\n",
       "      <td>2014-Q1</td>\n",
       "      <td>1</td>\n",
       "      <td>2014</td>\n",
       "      <td>NaN</td>\n",
       "      <td>NaN</td>\n",
       "      <td>0.026</td>\n",
       "      <td>92.0</td>\n",
       "      <td>HDB</td>\n",
       "      <td>Banking</td>\n",
       "    </tr>\n",
       "    <tr>\n",
       "      <th>39</th>\n",
       "      <td>2015-Q1</td>\n",
       "      <td>1</td>\n",
       "      <td>2015</td>\n",
       "      <td>15.0</td>\n",
       "      <td>1.2</td>\n",
       "      <td>0.077</td>\n",
       "      <td>363.0</td>\n",
       "      <td>ACB</td>\n",
       "      <td>Banking</td>\n",
       "    </tr>\n",
       "    <tr>\n",
       "      <th>102</th>\n",
       "      <td>2015-Q1</td>\n",
       "      <td>1</td>\n",
       "      <td>2015</td>\n",
       "      <td>10.6</td>\n",
       "      <td>1.6</td>\n",
       "      <td>0.154</td>\n",
       "      <td>1311.0</td>\n",
       "      <td>BID</td>\n",
       "      <td>Banking</td>\n",
       "    </tr>\n",
       "    <tr>\n",
       "      <th>142</th>\n",
       "      <td>2015-Q1</td>\n",
       "      <td>1</td>\n",
       "      <td>2015</td>\n",
       "      <td>18.2</td>\n",
       "      <td>NaN</td>\n",
       "      <td>NaN</td>\n",
       "      <td>1673.0</td>\n",
       "      <td>BVH</td>\n",
       "      <td>Insurance</td>\n",
       "    </tr>\n",
       "    <tr>\n",
       "      <th>182</th>\n",
       "      <td>2015-Q1</td>\n",
       "      <td>1</td>\n",
       "      <td>2015</td>\n",
       "      <td>9.6</td>\n",
       "      <td>1.0</td>\n",
       "      <td>0.104</td>\n",
       "      <td>1211.0</td>\n",
       "      <td>CTG</td>\n",
       "      <td>Banking</td>\n",
       "    </tr>\n",
       "  </tbody>\n",
       "</table>\n",
       "</div>"
      ],
      "text/plain": [
       "      period  quarter  year  price_to_earning  price_to_book    roe  \\\n",
       "316  2014-Q1        1  2014               NaN            NaN  0.026   \n",
       "39   2015-Q1        1  2015              15.0            1.2  0.077   \n",
       "102  2015-Q1        1  2015              10.6            1.6  0.154   \n",
       "142  2015-Q1        1  2015              18.2            NaN    NaN   \n",
       "182  2015-Q1        1  2015               9.6            1.0  0.104   \n",
       "\n",
       "     earning_per_share company   industry  \n",
       "316               92.0     HDB    Banking  \n",
       "39               363.0     ACB    Banking  \n",
       "102             1311.0     BID    Banking  \n",
       "142             1673.0     BVH  Insurance  \n",
       "182             1211.0     CTG    Banking  "
      ]
     },
     "execution_count": 26,
     "metadata": {},
     "output_type": "execute_result"
    }
   ],
   "source": [
    "# Gán nhóm ngành cho từng công ty\n",
    "industry_mapping = {\n",
    "    \"ACB\": \"Banking\", \"BID\": \"Banking\", \"CTG\": \"Banking\", \"HDB\": \"Banking\", \"LPB\": \"Banking\",\n",
    "    \"MBB\": \"Banking\", \"SHB\": \"Banking\", \"SSB\": \"Banking\", \"STB\": \"Banking\", \"TCB\": \"Banking\",\n",
    "    \"TPB\": \"Banking\", \"VCB\": \"Banking\", \"VIB\": \"Banking\", \"VPB\": \"Banking\",\n",
    "    \"VHM\": \"Real Estate\", \"VIC\": \"Real Estate\", \"NVL\": \"Real Estate\",\n",
    "    \"MSN\": \"Consumer Goods\", \"MWG\": \"Consumer Goods\", \"SAB\": \"Consumer Goods\", \"VNM\": \"Consumer Goods\",\n",
    "    \"GAS\": \"Energy\", \"PLX\": \"Energy\",\n",
    "    \"FPT\": \"Technology\", \"BVH\": \"Insurance\", \"HPG\": \"Materials\", \"GVR\": \"Materials\",\n",
    "    \"SSI\": \"Financial Services\"\n",
    "}\n",
    "\n",
    "# Thêm cột nhóm ngành\n",
    "df_combined[\"industry\"] = df_combined[\"company\"].map(industry_mapping).fillna(\"Other\")\n",
    "\n",
    "# Kiểm tra kết quả\n",
    "df_combined.head()\n"
   ]
  },
  {
   "cell_type": "code",
   "execution_count": 78,
   "metadata": {},
   "outputs": [],
   "source": [
    "# 🔹 Tạo 4 đặc trưng mới\n",
    "df_combined['pe_roe_ratio'] = df_combined['price_to_earning'] / df_combined['roe']\n",
    "df_combined['pb_roe_ratio'] = df_combined['price_to_book'] / df_combined['roe']\n",
    "df_combined['eps_quarter_growth'] = df_combined.groupby('company')['earning_per_share'].pct_change()\n",
    "df_combined['roe_moving_avg'] = df_combined.groupby('company')['roe'].rolling(window=2).mean().reset_index(level=0, drop=True)\n",
    "\n",
    "# Loại bỏ giá trị NaN sinh ra do `pct_change` và `rolling`\n",
    "df.dropna(inplace=True)\n"
   ]
  },
  {
   "cell_type": "markdown",
   "metadata": {},
   "source": [
    "## 2.1. Giả thuyết 8\n",
    "\n",
    "### Kiểm định ANOVA: Giá trị trung bình của pe_roe_ratio có khác nhau giữa các công ty không? (ANOVA)\n",
    "\n",
    "- $\\mathcal{H}_0$: Không có sự khác biệt về pe_roe_ratio trung bình giữa các công ty.\n",
    "- $\\mathcal{H}_1$: Có ít nhất một khu vực có pe_roe_ratio trung bình khác biệt đáng kể."
   ]
  },
  {
   "cell_type": "code",
   "execution_count": 79,
   "metadata": {},
   "outputs": [
    {
     "name": "stdout",
     "output_type": "stream",
     "text": [
      "ANOVA PE/ROE giữa các công ty: p-value = 0.0000\n",
      "⏩ Kết luận: Có sự khác biệt đáng kể về PE/ROE giữa các công ty.\n"
     ]
    }
   ],
   "source": [
    "import scipy.stats as stats\n",
    "\n",
    "anova_result = stats.f_oneway(*[df_combined[df_combined['company'] == c]['pe_roe_ratio'] for c in df_combined['company'].unique()])\n",
    "print(f\"ANOVA PE/ROE giữa các công ty: p-value = {anova_result.pvalue:.4f}\")\n",
    "if anova_result.pvalue < 0.05:\n",
    "    print(\"⏩ Kết luận: Có sự khác biệt đáng kể về PE/ROE giữa các công ty.\")\n",
    "else:\n",
    "    print(\"⏩ Kết luận: Không có sự khác biệt đáng kể về PE/ROE giữa các công ty.\")\n",
    "\n"
   ]
  },
  {
   "cell_type": "markdown",
   "metadata": {},
   "source": [
    "## 2.2. Giả thuyết 9\n",
    "\n",
    "### Kiểm định Pearson: PB/ROE có mối tương quan với EPS không?\n",
    "- $\\mathcal{H}_0$: Không có mối tương quan giữa PB/ROE với EPS.\n",
    "- $\\mathcal{H}_1$: Có mối tương quan đáng kể giữa PB/ROE với EPS."
   ]
  },
  {
   "cell_type": "code",
   "execution_count": 81,
   "metadata": {},
   "outputs": [
    {
     "name": "stdout",
     "output_type": "stream",
     "text": [
      "Tương quan PB/ROE với EPS: r = -0.1139, p-value = 0.0004\n",
      "⏩ Kết luận: Có mối tương quan đáng kể giữa PB/ROE và EPS.\n"
     ]
    }
   ],
   "source": [
    "corr, p_value = stats.pearsonr(df_combined['pb_roe_ratio'], df_combined['earning_per_share'])\n",
    "print(f\"Tương quan PB/ROE với EPS: r = {corr:.4f}, p-value = {p_value:.4f}\")\n",
    "if p_value < 0.05:\n",
    "    print(\"⏩ Kết luận: Có mối tương quan đáng kể giữa PB/ROE và EPS.\")\n",
    "else:\n",
    "    print(\"⏩ Kết luận: Không có mối tương quan đáng kể giữa PB/ROE và EPS.\")\n"
   ]
  },
  {
   "cell_type": "markdown",
   "metadata": {},
   "source": [
    "## 2.3. Giả thuyết 10\n",
    "\n",
    "### T-Test: EPS có xu hướng tăng trưởng theo thời gian không? \n",
    "\n",
    "- $\\mathcal{H}_0$: EPS không có xu hướng tăng trưởng đáng kể.\n",
    "- $\\mathcal{H}_1$: EPS có xu hướng tăng trưởng theo thời gian"
   ]
  },
  {
   "cell_type": "code",
   "execution_count": 82,
   "metadata": {},
   "outputs": [
    {
     "name": "stdout",
     "output_type": "stream",
     "text": [
      "T-test EPS theo năm: p-value = 0.2742\n",
      "⏩ Kết luận: EPS không có xu hướng tăng trưởng đáng kể.\n"
     ]
    }
   ],
   "source": [
    "eps_yearly = df_combined.groupby(['year'])['earning_per_share'].mean()\n",
    "t_stat, p_value = stats.ttest_rel(eps_yearly[:-1], eps_yearly[1:])\n",
    "print(f\"T-test EPS theo năm: p-value = {p_value:.4f}\")\n",
    "if p_value < 0.05:\n",
    "    print(\"⏩ Kết luận: EPS có xu hướng tăng trưởng theo thời gian.\")\n",
    "else:\n",
    "    print(\"⏩ Kết luận: EPS không có xu hướng tăng trưởng đáng kể.\")\n"
   ]
  },
  {
   "cell_type": "markdown",
   "metadata": {},
   "source": [
    "## 2.4. Giả thuyết 11\n",
    "\n",
    "### T-Test: ROE trung bình của các công ty có giá trị PB trên trung bình có khác biệt đáng kể so với nhóm dưới trung bình không?\n",
    "\n",
    "- $\\mathcal{H}_0$: Không có sự khác biệt đáng kể về ROE giữa nhóm PB cao và thấp.\n",
    "- $\\mathcal{H}_1$: ROE trung bình có sự khác biệt đáng kể giữa hai nhóm PB."
   ]
  },
  {
   "cell_type": "code",
   "execution_count": 83,
   "metadata": {},
   "outputs": [
    {
     "name": "stdout",
     "output_type": "stream",
     "text": [
      "T-test ROE giữa nhóm PB cao & thấp: p-value = 0.0000\n",
      "⏩ Kết luận: ROE trung bình có sự khác biệt đáng kể giữa nhóm PB cao và thấp.\n"
     ]
    }
   ],
   "source": [
    "median_pb = df_combined['price_to_book'].median()\n",
    "group_high = df_combined[df_combined['price_to_book'] > median_pb]['roe']\n",
    "group_low = df_combined[df_combined['price_to_book'] <= median_pb]['roe']\n",
    "t_stat, p_value = stats.ttest_ind(group_high, group_low, equal_var=False)\n",
    "print(f\"T-test ROE giữa nhóm PB cao & thấp: p-value = {p_value:.4f}\")\n",
    "if p_value < 0.05:\n",
    "    print(\"⏩ Kết luận: ROE trung bình có sự khác biệt đáng kể giữa nhóm PB cao và thấp.\")\n",
    "else:\n",
    "    print(\"⏩ Kết luận: Không có sự khác biệt đáng kể về ROE giữa hai nhóm PB.\")\n"
   ]
  },
  {
   "cell_type": "markdown",
   "metadata": {},
   "source": [
    "## 2.5. Giả thuyết 12\n",
    "\n",
    "### Q-Q plot Test: ROE có phân phối chuẩn không? \n",
    "\n",
    "- $\\mathcal{H}_0$: ROE không tuân theo phân phối chuẩn.\n",
    "- $\\mathcal{H}_1$: ROE có thể coi là tuân theo phân phối chuẩn."
   ]
  },
  {
   "cell_type": "code",
   "execution_count": 122,
   "metadata": {},
   "outputs": [
    {
     "name": "stdout",
     "output_type": "stream",
     "text": [
      "✅ Phân phối có thể coi là gần chuẩn dựa trên Skewness & Kurtosis.\n",
      "\n"
     ]
    },
    {
     "data": {
      "image/png": "[encoded data removed]",
      "text/plain": [
       "<Figure size 1200x600 with 1 Axes>"
      ]
     },
     "metadata": {},
     "output_type": "display_data"
    }
   ],
   "source": [
    "# 🔹 Kiểm tra Skewness & Kurtosis\n",
    "skewness = stats.skew(df_combined['roe'])\n",
    "kurt = stats.kurtosis(df_combined['roe'])\n",
    "\n",
    "# 🔹 Kết luận\n",
    "if abs(skewness) < 0.7 and abs(kurt) < 3.5:\n",
    "    print(\"✅ Phân phối có thể coi là gần chuẩn dựa trên Skewness & Kurtosis.\\n\")\n",
    "else:\n",
    "    print(\"❌ Phân phối không tuân theo phân phối chuẩn do lệch hoặc có đuôi dài.\\n\")\n",
    "# 🔹 3. Vẽ biểu đồ trực quan\n",
    "plt.figure(figsize=(12, 6))\n",
    "sns.histplot(df_combined['roe'], kde=True, bins=30)\n",
    "plt.title(\"Phân phối của ROE\")\n",
    "plt.show()\n"
   ]
  },
  {
   "cell_type": "markdown",
   "metadata": {},
   "source": [
    "## 3. Tính toán các độ đo kinh tế học và kiểm chứng giả thuyết"
   ]
  },
  {
   "cell_type": "code",
   "execution_count": 28,
   "metadata": {},
   "outputs": [
    {
     "name": "stdout",
     "output_type": "stream",
     "text": [
      "✅ Gộp dữ liệu hoàn tất! File lưu thành 'Merged_data_full.csv'\n"
     ]
    }
   ],
   "source": [
    "import pandas as pd\n",
    "\n",
    "# Danh sách file cụ thể\n",
    "file_paths = [\n",
    "    \"ACB.csv\", \"BCM.csv\", \"BID.csv\", \"BVH.csv\", \"CTG.csv\", \"FPT.csv\", \"GAS.csv\", \"GVR.csv\", \"HDB.csv\", \"HPG.csv\",\n",
    "    \"LPB.csv\", \"MBB.csv\", \"MSN.csv\", \"MWG.csv\", \"PLX.csv\", \"SAB.csv\", \"SHB.csv\", \"SSB.csv\", \"SSI.csv\", \"STB.csv\",\n",
    "    \"TCB.csv\", \"TPB.csv\", \"VCB.csv\", \"VHM.csv\", \"VIB.csv\", \"VIC.csv\", \"VJC.csv\", \"VNM.csv\", \"VPB.csv\", \"VRE.csv\"\n",
    "]\n",
    "\n",
    "# Chỉ giữ lại các cột cần thiết\n",
    "columns_needed = ['period', 'quarter', 'year', 'price_to_earning', 'price_to_book', 'roe', 'earning_per_share', 'equity_on_liability'\n",
    ", 'asset_on_equity', 'equity_on_total_asset', 'roa', 'payable_on_equity', 'book_value_per_share_change', 'eps_change', 'book_value_per_share']\n",
    "\n",
    "# Đọc và gộp dữ liệu\n",
    "df_list = []\n",
    "for file in file_paths:\n",
    "    try:\n",
    "        df = pd.read_csv(file)[columns_needed]  # Chỉ lấy các cột cần thiết\n",
    "        df[\"company\"] = file.replace(\".csv\", \"\")  # Thêm cột tên công ty\n",
    "        df_list.append(df)\n",
    "    except Exception as e:\n",
    "        print(f\"Lỗi khi đọc file {file}: {e}\")\n",
    "\n",
    "df_combined_full = pd.concat(df_list, ignore_index=True)\n",
    "\n",
    "# Lưu file kết quả\n",
    "df_combined_full.to_csv(\"Merged_data_full.csv\", index=False)\n",
    "\n",
    "print(\"✅ Gộp dữ liệu hoàn tất! File lưu thành 'Merged_data_full.csv'\")"
   ]
  },
  {
   "cell_type": "code",
   "execution_count": 32,
   "metadata": {},
   "outputs": [
    {
     "data": {
      "text/html": [
       "<div>\n",
       "<style scoped>\n",
       "    .dataframe tbody tr th:only-of-type {\n",
       "        vertical-align: middle;\n",
       "    }\n",
       "\n",
       "    .dataframe tbody tr th {\n",
       "        vertical-align: top;\n",
       "    }\n",
       "\n",
       "    .dataframe thead th {\n",
       "        text-align: right;\n",
       "    }\n",
       "</style>\n",
       "<table border=\"1\" class=\"dataframe\">\n",
       "  <thead>\n",
       "    <tr style=\"text-align: right;\">\n",
       "      <th></th>\n",
       "      <th>period</th>\n",
       "      <th>quarter</th>\n",
       "      <th>year</th>\n",
       "      <th>price_to_earning</th>\n",
       "      <th>price_to_book</th>\n",
       "      <th>roe</th>\n",
       "      <th>earning_per_share</th>\n",
       "      <th>equity_on_liability</th>\n",
       "      <th>asset_on_equity</th>\n",
       "      <th>equity_on_total_asset</th>\n",
       "      <th>roa</th>\n",
       "      <th>payable_on_equity</th>\n",
       "      <th>book_value_per_share_change</th>\n",
       "      <th>eps_change</th>\n",
       "      <th>book_value_per_share</th>\n",
       "      <th>company</th>\n",
       "      <th>Adjusted_ROE</th>\n",
       "      <th>Adjusted_ROA</th>\n",
       "      <th>Equity_Liability_Ratio</th>\n",
       "      <th>FLI</th>\n",
       "    </tr>\n",
       "  </thead>\n",
       "  <tbody>\n",
       "    <tr>\n",
       "      <th>0</th>\n",
       "      <td>2024-Q4</td>\n",
       "      <td>4</td>\n",
       "      <td>2024</td>\n",
       "      <td>7.0</td>\n",
       "      <td>1.4</td>\n",
       "      <td>0.217</td>\n",
       "      <td>3758.0</td>\n",
       "      <td>0.1</td>\n",
       "      <td>10.4</td>\n",
       "      <td>0.097</td>\n",
       "      <td>0.021</td>\n",
       "      <td>9.4</td>\n",
       "      <td>0.058</td>\n",
       "      <td>0.033</td>\n",
       "      <td>18685.0</td>\n",
       "      <td>ACB</td>\n",
       "      <td>0.3038</td>\n",
       "      <td>0.2184</td>\n",
       "      <td>0.1</td>\n",
       "      <td>107.216495</td>\n",
       "    </tr>\n",
       "    <tr>\n",
       "      <th>1</th>\n",
       "      <td>2024-Q3</td>\n",
       "      <td>3</td>\n",
       "      <td>2024</td>\n",
       "      <td>7.1</td>\n",
       "      <td>1.5</td>\n",
       "      <td>0.223</td>\n",
       "      <td>3638.0</td>\n",
       "      <td>0.1</td>\n",
       "      <td>9.9</td>\n",
       "      <td>0.101</td>\n",
       "      <td>0.023</td>\n",
       "      <td>8.9</td>\n",
       "      <td>0.054</td>\n",
       "      <td>-0.010</td>\n",
       "      <td>17653.0</td>\n",
       "      <td>ACB</td>\n",
       "      <td>0.3345</td>\n",
       "      <td>0.2277</td>\n",
       "      <td>0.1</td>\n",
       "      <td>98.019802</td>\n",
       "    </tr>\n",
       "    <tr>\n",
       "      <th>2</th>\n",
       "      <td>2024-Q2</td>\n",
       "      <td>2</td>\n",
       "      <td>2024</td>\n",
       "      <td>6.5</td>\n",
       "      <td>1.4</td>\n",
       "      <td>0.239</td>\n",
       "      <td>3675.0</td>\n",
       "      <td>0.1</td>\n",
       "      <td>10.3</td>\n",
       "      <td>0.097</td>\n",
       "      <td>0.023</td>\n",
       "      <td>9.3</td>\n",
       "      <td>0.000</td>\n",
       "      <td>0.038</td>\n",
       "      <td>16744.0</td>\n",
       "      <td>ACB</td>\n",
       "      <td>0.3346</td>\n",
       "      <td>0.2369</td>\n",
       "      <td>0.1</td>\n",
       "      <td>106.185567</td>\n",
       "    </tr>\n",
       "    <tr>\n",
       "      <th>3</th>\n",
       "      <td>2024-Q1</td>\n",
       "      <td>1</td>\n",
       "      <td>2024</td>\n",
       "      <td>6.8</td>\n",
       "      <td>1.4</td>\n",
       "      <td>0.230</td>\n",
       "      <td>3540.0</td>\n",
       "      <td>0.1</td>\n",
       "      <td>9.7</td>\n",
       "      <td>0.103</td>\n",
       "      <td>0.024</td>\n",
       "      <td>8.7</td>\n",
       "      <td>0.054</td>\n",
       "      <td>-0.014</td>\n",
       "      <td>16744.0</td>\n",
       "      <td>ACB</td>\n",
       "      <td>0.3220</td>\n",
       "      <td>0.2328</td>\n",
       "      <td>0.1</td>\n",
       "      <td>94.174757</td>\n",
       "    </tr>\n",
       "    <tr>\n",
       "      <th>4</th>\n",
       "      <td>2023-Q4</td>\n",
       "      <td>4</td>\n",
       "      <td>2023</td>\n",
       "      <td>5.6</td>\n",
       "      <td>1.3</td>\n",
       "      <td>0.248</td>\n",
       "      <td>3592.0</td>\n",
       "      <td>0.1</td>\n",
       "      <td>10.1</td>\n",
       "      <td>0.099</td>\n",
       "      <td>0.024</td>\n",
       "      <td>9.1</td>\n",
       "      <td>0.062</td>\n",
       "      <td>0.076</td>\n",
       "      <td>15885.0</td>\n",
       "      <td>ACB</td>\n",
       "      <td>0.3224</td>\n",
       "      <td>0.2424</td>\n",
       "      <td>0.1</td>\n",
       "      <td>102.020202</td>\n",
       "    </tr>\n",
       "  </tbody>\n",
       "</table>\n",
       "</div>"
      ],
      "text/plain": [
       "    period  quarter  year  price_to_earning  price_to_book    roe  \\\n",
       "0  2024-Q4        4  2024               7.0            1.4  0.217   \n",
       "1  2024-Q3        3  2024               7.1            1.5  0.223   \n",
       "2  2024-Q2        2  2024               6.5            1.4  0.239   \n",
       "3  2024-Q1        1  2024               6.8            1.4  0.230   \n",
       "4  2023-Q4        4  2023               5.6            1.3  0.248   \n",
       "\n",
       "   earning_per_share  equity_on_liability  asset_on_equity  \\\n",
       "0             3758.0                  0.1             10.4   \n",
       "1             3638.0                  0.1              9.9   \n",
       "2             3675.0                  0.1             10.3   \n",
       "3             3540.0                  0.1              9.7   \n",
       "4             3592.0                  0.1             10.1   \n",
       "\n",
       "   equity_on_total_asset    roa  payable_on_equity  \\\n",
       "0                  0.097  0.021                9.4   \n",
       "1                  0.101  0.023                8.9   \n",
       "2                  0.097  0.023                9.3   \n",
       "3                  0.103  0.024                8.7   \n",
       "4                  0.099  0.024                9.1   \n",
       "\n",
       "   book_value_per_share_change  eps_change  book_value_per_share company  \\\n",
       "0                        0.058       0.033               18685.0     ACB   \n",
       "1                        0.054      -0.010               17653.0     ACB   \n",
       "2                        0.000       0.038               16744.0     ACB   \n",
       "3                        0.054      -0.014               16744.0     ACB   \n",
       "4                        0.062       0.076               15885.0     ACB   \n",
       "\n",
       "   Adjusted_ROE  Adjusted_ROA  Equity_Liability_Ratio         FLI  \n",
       "0        0.3038        0.2184                     0.1  107.216495  \n",
       "1        0.3345        0.2277                     0.1   98.019802  \n",
       "2        0.3346        0.2369                     0.1  106.185567  \n",
       "3        0.3220        0.2328                     0.1   94.174757  \n",
       "4        0.3224        0.2424                     0.1  102.020202  "
      ]
     },
     "execution_count": 32,
     "metadata": {},
     "output_type": "execute_result"
    }
   ],
   "source": [
    "df_combined_full.head()"
   ]
  },
  {
   "cell_type": "code",
   "execution_count": 31,
   "metadata": {},
   "outputs": [],
   "source": [
    "# Tính toán các độ đo kinh tế quan trọng\n",
    "\n",
    "\n",
    "# **Hệ số ROE điều chỉnh (Adjusted ROE)**\n",
    "df_combined_full[\"Adjusted_ROE\"] = df_combined_full[\"roe\"] * df_combined_full[\"price_to_book\"]\n",
    "\n",
    "# **Tỷ suất sinh lời trên tài sản có điều chỉnh (Adjusted ROA)**\n",
    "df_combined_full[\"Adjusted_ROA\"] = df_combined_full[\"roa\"] * df_combined_full[\"asset_on_equity\"]\n",
    "\n",
    "# **Tỷ lệ vốn chủ sở hữu trên nợ phải trả (Equity/Liability Ratio)**\n",
    "df_combined_full[\"Equity_Liability_Ratio\"] = df_combined_full[\"equity_on_liability\"]\n",
    "\n",
    "# **Chỉ số đòn bẩy tài chính (Financial Leverage Index - FLI)**\n",
    "df_combined_full['FLI'] = df_combined_full['asset_on_equity'] / df_combined_full['equity_on_total_asset']\n",
    "\n"
   ]
  },
  {
   "cell_type": "markdown",
   "metadata": {},
   "source": [
    "## 3.1. Giả thuyết 13\n",
    "\n",
    "### T-Test: Nhóm Adjusted_ROA cao và thấp có sự khác biệt đáng kể không ?\n",
    "\n",
    "- $\\mathcal{H}_0$: Không có sự khác biệt đáng kể giữa nhóm Adjusted_ROA cao và thấp.\n",
    "- $\\mathcal{H}_1$: Có sự khác biệt đáng kể giữa 2 nhóm trên."
   ]
  },
  {
   "cell_type": "code",
   "execution_count": 33,
   "metadata": {},
   "outputs": [
    {
     "name": "stdout",
     "output_type": "stream",
     "text": [
      "T-test statistic: 37.52026227192851, p-value: 2.5368805051550305e-182\n",
      "✅ Có sự khác biệt đáng kể giữa nhóm Adjusted_ROA cao và thấp.\n"
     ]
    }
   ],
   "source": [
    "\n",
    "# Kiểm định t-test giữa nhóm Adjusted_ROA cao và thấp\n",
    "high_roa = df_combined_full[df_combined_full['Adjusted_ROA'] > df_combined_full['Adjusted_ROA'].median()]['Adjusted_ROA']\n",
    "low_roa = df_combined_full[df_combined_full['Adjusted_ROA'] <= df_combined_full['Adjusted_ROA'].median()]['Adjusted_ROA']\n",
    "t_stat, pval = stats.ttest_ind(high_roa, low_roa, equal_var=False)\n",
    "print(f\"T-test statistic: {t_stat}, p-value: {pval}\")\n",
    "if pval < 0.05:\n",
    "    print(\"✅ Có sự khác biệt đáng kể giữa nhóm Adjusted_ROA cao và thấp.\")\n",
    "else:\n",
    "    print(\"❌ Không có sự khác biệt đáng kể giữa nhóm Adjusted_ROA cao và thấp.\")"
   ]
  },
  {
   "cell_type": "markdown",
   "metadata": {},
   "source": [
    "## 3.2. Giả thuyết 14\n",
    "\n",
    "### Chi-square Test: Có mối quan hệ có ý nghĩa giữa Adjusted_ROE và FLI không ?\n",
    "\n",
    "- $\\mathcal{H}_0$: Có mối quan hệ có ý nghĩa giữa Adjusted_ROE và FLI.\n",
    "- $\\mathcal{H}_1$: Không có mối quan hệ đáng kể giữa 2 nhóm trên."
   ]
  },
  {
   "cell_type": "code",
   "execution_count": 35,
   "metadata": {},
   "outputs": [
    {
     "name": "stdout",
     "output_type": "stream",
     "text": [
      "Chi-square test: 474782.24444444437, p-value: 0.0031555541770425127\n",
      "✅ Có mối quan hệ có ý nghĩa giữa Adjusted_ROE và FLI.\n"
     ]
    }
   ],
   "source": [
    "# Kiểm định Chi-bình phương giữa Adjusted_ROE và nhóm phân loại FLI\n",
    "df_combined_full['FLI_group'] = pd.qcut(df_combined_full['FLI'], 2, labels=['Low', 'High'])\n",
    "contingency_table = pd.crosstab(df_combined_full['Adjusted_ROE'], df_combined_full['FLI'])\n",
    "chi2_stat, pval, _, _ = stats.chi2_contingency(contingency_table)\n",
    "print(f\"Chi-square test: {chi2_stat}, p-value: {pval}\")\n",
    "if pval < 0.05:\n",
    "    print(\"✅ Có mối quan hệ có ý nghĩa giữa Adjusted_ROE và FLI.\")\n",
    "else:\n",
    "    print(\"❌ Không có mối quan hệ đáng kể giữa Adjusted_ROE và FLI.\")\n"
   ]
  },
  {
   "cell_type": "markdown",
   "metadata": {},
   "source": [
    "## 3.3. Giả thuyết 15\n",
    "\n",
    "### Kiểm định Levene: Phương sai của Adjusted ROE và Adjusted ROA có sự khác biệt đáng kể không ?\n",
    "\n",
    "- $\\mathcal{H}_0$: Phương sai của Adjusted ROE và Adjusted ROA có sự khác biệt đáng kể.\n",
    "- $\\mathcal{H}_1$: Phương sai 2 độ đo trên không khác nhau mấy."
   ]
  },
  {
   "cell_type": "code",
   "execution_count": 38,
   "metadata": {},
   "outputs": [
    {
     "name": "stdout",
     "output_type": "stream",
     "text": [
      "Levene's Test Statistic: 248.8370\n",
      "p-value: 0.0000\n",
      "✅ Phương sai của Adjusted ROE và Adjusted ROA có sự khác biệt đáng kể.\n"
     ]
    }
   ],
   "source": [
    "\n",
    "# Thực hiện kiểm định Levene để so sánh phương sai của Adjusted_ROE và Adjusted_ROA\n",
    "levene_stat, levene_p = stats.levene(df_combined_full[\"Adjusted_ROE\"].dropna(), \n",
    "                                     df_combined_full[\"Adjusted_ROA\"].dropna())\n",
    "\n",
    "# In ra giá trị thống kê và p-value\n",
    "print(f\"Levene's Test Statistic: {levene_stat:.4f}\")\n",
    "print(f\"p-value: {levene_p:.4f}\")\n",
    "\n",
    "# Kết luận kiểm định\n",
    "if levene_p < 0.05:\n",
    "    print(\"✅ Phương sai của Adjusted ROE và Adjusted ROA có sự khác biệt đáng kể.\")\n",
    "else:\n",
    "    print(\"❌ Phương sai của Adjusted ROE và Adjusted ROA không khác nhau mấy.\")\n",
    "\n"
   ]
  },
  {
   "cell_type": "markdown",
   "metadata": {},
   "source": [
    "## 3.4. Giả thuyết 16\n",
    "\n",
    "### Kiểm định ANOVA: Equity/Liability Ratio có khác biệt đáng kể giữa các công ty không ?\n",
    "\n",
    "- $\\mathcal{H}_0$: Có khác biệt đáng kể giữa Equity/Liability Ratio các công ty.\n",
    "- $\\mathcal{H}_1$: Không có khác biệt đáng kể giữa các công ty."
   ]
  },
  {
   "cell_type": "code",
   "execution_count": 39,
   "metadata": {},
   "outputs": [
    {
     "name": "stdout",
     "output_type": "stream",
     "text": [
      "ANOVA Test Statistic: 422.7982\n",
      "p-value: 0.0000\n",
      "✅ Equity/Liability Ratio có khác biệt đáng kể giữa các công ty.\n"
     ]
    }
   ],
   "source": [
    "\n",
    "\n",
    "# Tạo danh sách các nhóm dữ liệu theo từng công ty\n",
    "groups = [df_combined_full[df_combined_full[\"company\"] == c][\"Equity_Liability_Ratio\"] \n",
    "          for c in df_combined_full[\"company\"].unique()]\n",
    "\n",
    "# Thực hiện kiểm định ANOVA\n",
    "anova_stat, anova_p = stats.f_oneway(*groups)\n",
    "\n",
    "# In ra giá trị thống kê và p-value\n",
    "print(f\"ANOVA Test Statistic: {anova_stat:.4f}\")\n",
    "print(f\"p-value: {anova_p:.4f}\")\n",
    "\n",
    "# Kết luận kiểm định\n",
    "if anova_p < 0.05:\n",
    "    print(\"✅ Equity/Liability Ratio có khác biệt đáng kể giữa các công ty.\")\n",
    "else:\n",
    "    print(\"❌ Equity/Liability Ratio không khác biệt giữa các công ty.\")\n"
   ]
  }
 ],
 "metadata": {
  "kernelspec": {
   "display_name": "Python 3",
   "language": "python",
   "name": "python3"
  },
  "language_info": {
   "codemirror_mode": {
    "name": "ipython",
    "version": 3
   },
   "file_extension": ".py",
   "mimetype": "text/x-python",
   "name": "python",
   "nbconvert_exporter": "python",
   "pygments_lexer": "ipython3",
   "version": "3.11.9"
  }
 },
 "nbformat": 4,
 "nbformat_minor": 2
}
