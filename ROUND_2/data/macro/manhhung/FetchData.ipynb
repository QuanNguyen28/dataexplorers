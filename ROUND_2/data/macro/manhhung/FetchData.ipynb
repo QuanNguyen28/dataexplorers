{
 "cells": [
  {
   "cell_type": "code",
   "execution_count": 17,
   "metadata": {},
   "outputs": [
    {
     "name": "stdout",
     "output_type": "stream",
     "text": [
      "✅ Đã lưu dữ liệu vào file vietnam_macro_data.csv\n"
     ]
    }
   ],
   "source": [
    "import requests\n",
    "import pandas as pd\n",
    "\n",
    "# Danh sách chỉ số cần lấy\n",
    "indicators = {\n",
    "    'NY.GDP.MKTP.CD': 'GDP (USD)',\n",
    "    'FP.CPI.TOTL.ZG': 'Lạm phát CPI (%)',\n",
    "    'SL.UEM.TOTL.ZS': 'Tỷ lệ thất nghiệp (%)',\n",
    "    'FR.INR.RINR': 'Lãi suất ngân hàng (%)',\n",
    "    'NE.EXP.GNFS.CD': 'Xuất khẩu hàng hóa (USD)',\n",
    "    'NE.IMP.GNFS.CD': 'Nhập khẩu hàng hóa (USD)'\n",
    "}\n",
    "\n",
    "# Hàm lấy dữ liệu cho một chỉ số\n",
    "def get_indicator_data(indicator_code):\n",
    "    url = f'https://api.worldbank.org/v2/country/VN/indicator/{indicator_code}?format=json&per_page=1000'\n",
    "    response = requests.get(url)\n",
    "    if response.status_code == 200:\n",
    "        json_data = response.json()\n",
    "        if len(json_data) > 1:\n",
    "            records = json_data[1]\n",
    "            data = []\n",
    "            for record in records:\n",
    "                year = record['date']\n",
    "                value = record['value']\n",
    "                data.append({'Năm': year, indicators[indicator_code]: value})\n",
    "            return pd.DataFrame(data)\n",
    "    return pd.DataFrame()\n",
    "\n",
    "# Kết hợp dữ liệu từ tất cả các chỉ số\n",
    "final_df = None\n",
    "\n",
    "for code in indicators:\n",
    "    df = get_indicator_data(code)\n",
    "    if final_df is None:\n",
    "        final_df = df\n",
    "    else:\n",
    "        final_df = pd.merge(final_df, df, on='Năm', how='outer')\n",
    "\n",
    "# Sắp xếp theo năm giảm dần\n",
    "final_df = final_df.sort_values(by='Năm', ascending=False)\n",
    "\n",
    "# Lưu ra file CSV\n",
    "final_df.to_csv(\"vietnam_macro_data.csv\", index=False)\n",
    "\n",
    "print(\"✅ Đã lưu dữ liệu vào file vietnam_macro_data.csv\")\n"
   ]
  },
  {
   "cell_type": "code",
   "execution_count": 2,
   "metadata": {},
   "outputs": [
    {
     "name": "stdout",
     "output_type": "stream",
     "text": [
      "(3, 5)\n"
     ]
    }
   ],
   "source": [
    "import numpy as np\n",
    "x = np.array([[1, 2, 3, 4, 5],\n",
    "             [6, 7, 8, 9, 10],\n",
    "             [11, 12, 13, 14, 15]])\n",
    "print(x.shape)"
   ]
  },
  {
   "cell_type": "code",
   "execution_count": null,
   "metadata": {},
   "outputs": [],
   "source": []
  },
  {
   "cell_type": "code",
   "execution_count": 19,
   "metadata": {},
   "outputs": [
    {
     "name": "stdout",
     "output_type": "stream",
     "text": [
      "✅ Dữ liệu đã được lưu vào file vietnam_macro_data.csv thành công!\n"
     ]
    }
   ],
   "source": [
    "import requests\n",
    "import pandas as pd\n",
    "\n",
    "# Danh sách chỉ số kinh tế vĩ mô mở rộng\n",
    "indicators = {\n",
    "    'NY.GDP.MKTP.CD': 'GDP (USD)',\n",
    "    'NY.GDP.PCAP.CD': 'GDP đầu người (USD)',\n",
    "    'NY.GDP.MKTP.KD.ZG': 'Tăng trưởng GDP (%)',\n",
    "    'FP.CPI.TOTL.ZG': 'Lạm phát CPI (%)',\n",
    "    'FR.INR.RINR': 'Lãi suất ngân hàng (%)',\n",
    "    'SL.UEM.TOTL.ZS': 'Tỷ lệ thất nghiệp (%)',\n",
    "    'NE.EXP.GNFS.CD': 'Xuất khẩu (USD)',\n",
    "    'NE.IMP.GNFS.CD': 'Nhập khẩu (USD)',\n",
    "    'BN.CAB.XOKA.CD': 'Cán cân vãng lai (USD)',\n",
    "    'GC.XPN.TOTL.GD.ZS': 'Chi tiêu chính phủ (% GDP)',\n",
    "    'GC.TAX.TOTL.GD.ZS': 'Thuế trên GDP (%)',\n",
    "    'NE.CON.PRVT.ZS': 'Tiêu dùng cá nhân (% GDP)',\n",
    "    'SP.POP.TOTL': 'Dân số',\n",
    "    'SP.DYN.LE00.IN': 'Tuổi thọ trung bình',\n",
    "    'SP.POP.GROW': 'Tăng trưởng dân số (%)',\n",
    "    'BX.KLT.DINV.CD.WD': 'FDI vào (USD)',\n",
    "    'GC.DOD.TOTL.GD.ZS': 'Nợ công (% GDP)',\n",
    "    'BX.TRF.PWKR.CD.DT': 'Kiều hối (USD)',\n",
    "    'NE.GDI.TOTL.ZS': 'Tổng đầu tư (% GDP)'\n",
    "}\n",
    "\n",
    "# Hàm truy xuất dữ liệu từ World Bank API\n",
    "def get_indicator_data(indicator_code):\n",
    "    url = f'https://api.worldbank.org/v2/country/VN/indicator/{indicator_code}?format=json&per_page=1000'\n",
    "    response = requests.get(url)\n",
    "    if response.status_code == 200:\n",
    "        json_data = response.json()\n",
    "        if len(json_data) > 1:\n",
    "            records = json_data[1]\n",
    "            data = []\n",
    "            for record in records:\n",
    "                year = record['date']\n",
    "                value = record['value']\n",
    "                data.append({'Năm': year, indicators[indicator_code]: value})\n",
    "            return pd.DataFrame(data)\n",
    "    return pd.DataFrame()\n",
    "\n",
    "# Kết hợp dữ liệu từ tất cả chỉ số\n",
    "final_df = None\n",
    "\n",
    "for code in indicators:\n",
    "    df = get_indicator_data(code)\n",
    "    if not df.empty:\n",
    "        if final_df is None:\n",
    "            final_df = df\n",
    "        else:\n",
    "            final_df = pd.merge(final_df, df, on='Năm', how='outer')\n",
    "\n",
    "# Sắp xếp dữ liệu theo Năm giảm dần\n",
    "final_df = final_df.sort_values(by='Năm', ascending=False)\n",
    "\n",
    "# Lưu vào file CSV\n",
    "final_df.to_csv(\"vietnam_macro_data.csv\", index=False, encoding='utf-8-sig')\n",
    "\n",
    "print(\"✅ Dữ liệu đã được lưu vào file vietnam_macro_data.csv thành công!\")\n"
   ]
  },
  {
   "cell_type": "code",
   "execution_count": 20,
   "metadata": {},
   "outputs": [
    {
     "ename": "HTTPError",
     "evalue": "HTTP Error 403: No Access to this country as free user.",
     "output_type": "error",
     "traceback": [
      "\u001b[1;31m---------------------------------------------------------------------------\u001b[0m",
      "\u001b[1;31mHTTPError\u001b[0m                                 Traceback (most recent call last)",
      "Cell \u001b[1;32mIn[20], line 5\u001b[0m\n\u001b[0;32m      1\u001b[0m \u001b[38;5;28;01mimport\u001b[39;00m\u001b[38;5;250m \u001b[39m\u001b[38;5;21;01mtradingeconomics\u001b[39;00m\u001b[38;5;250m \u001b[39m\u001b[38;5;28;01mas\u001b[39;00m\u001b[38;5;250m \u001b[39m\u001b[38;5;21;01mte\u001b[39;00m\n\u001b[0;32m      3\u001b[0m te\u001b[38;5;241m.\u001b[39mlogin(\u001b[38;5;124m'\u001b[39m\u001b[38;5;124mb272ec23be314f7:4bq92u8udgzwrha\u001b[39m\u001b[38;5;124m'\u001b[39m)\n\u001b[1;32m----> 5\u001b[0m data \u001b[38;5;241m=\u001b[39m \u001b[43mte\u001b[49m\u001b[38;5;241;43m.\u001b[39;49m\u001b[43mgetIndicatorData\u001b[49m\u001b[43m(\u001b[49m\u001b[43mcountry\u001b[49m\u001b[38;5;241;43m=\u001b[39;49m\u001b[38;5;124;43m'\u001b[39;49m\u001b[38;5;124;43mVietnam\u001b[39;49m\u001b[38;5;124;43m'\u001b[39;49m\u001b[43m)\u001b[49m\n\u001b[0;32m      6\u001b[0m \u001b[38;5;28mprint\u001b[39m(data)\n",
      "File \u001b[1;32md:\\Mhung\\Competition\\DataFlow2025\\env\\Lib\\site-packages\\tradingeconomics\\indicators.py:129\u001b[0m, in \u001b[0;36mgetIndicatorData\u001b[1;34m(country, indicators, calendar, output_type)\u001b[0m\n\u001b[0;32m    126\u001b[0m \u001b[38;5;28;01mexcept\u001b[39;00m \u001b[38;5;167;01mAttributeError\u001b[39;00m:\n\u001b[0;32m    127\u001b[0m     \u001b[38;5;28;01mraise\u001b[39;00m LoginError(\u001b[38;5;124m'\u001b[39m\u001b[38;5;124mYou need to do login before making any request\u001b[39m\u001b[38;5;124m'\u001b[39m)\n\u001b[1;32m--> 129\u001b[0m \u001b[38;5;28;01mreturn\u001b[39;00m \u001b[43mfn\u001b[49m\u001b[38;5;241;43m.\u001b[39;49m\u001b[43mdataRequest\u001b[49m\u001b[43m(\u001b[49m\u001b[43mapi_request\u001b[49m\u001b[38;5;241;43m=\u001b[39;49m\u001b[43mlinkAPI\u001b[49m\u001b[43m,\u001b[49m\u001b[43m \u001b[49m\u001b[43moutput_type\u001b[49m\u001b[38;5;241;43m=\u001b[39;49m\u001b[43moutput_type\u001b[49m\u001b[43m)\u001b[49m\n",
      "File \u001b[1;32md:\\Mhung\\Competition\\DataFlow2025\\env\\Lib\\site-packages\\tradingeconomics\\functions.py:136\u001b[0m, in \u001b[0;36mdataRequest\u001b[1;34m(api_request, output_type)\u001b[0m\n\u001b[0;32m    133\u001b[0m outputTypeCheck(output_type)\n\u001b[0;32m    135\u001b[0m \u001b[38;5;28;01mtry\u001b[39;00m:\n\u001b[1;32m--> 136\u001b[0m     response \u001b[38;5;241m=\u001b[39m \u001b[43murlopen\u001b[49m\u001b[43m(\u001b[49m\u001b[43mapi_request\u001b[49m\u001b[43m)\u001b[49m\n\u001b[0;32m    137\u001b[0m     code \u001b[38;5;241m=\u001b[39m response\u001b[38;5;241m.\u001b[39mgetcode()\n\u001b[0;32m    138\u001b[0m     webResultsRaw \u001b[38;5;241m=\u001b[39m json\u001b[38;5;241m.\u001b[39mloads(response\u001b[38;5;241m.\u001b[39mread()\u001b[38;5;241m.\u001b[39mdecode(\u001b[38;5;124m'\u001b[39m\u001b[38;5;124mutf-8\u001b[39m\u001b[38;5;124m'\u001b[39m))\n",
      "File \u001b[1;32m~\\AppData\\Local\\Programs\\Python\\Python311\\Lib\\urllib\\request.py:216\u001b[0m, in \u001b[0;36murlopen\u001b[1;34m(url, data, timeout, cafile, capath, cadefault, context)\u001b[0m\n\u001b[0;32m    214\u001b[0m \u001b[38;5;28;01melse\u001b[39;00m:\n\u001b[0;32m    215\u001b[0m     opener \u001b[38;5;241m=\u001b[39m _opener\n\u001b[1;32m--> 216\u001b[0m \u001b[38;5;28;01mreturn\u001b[39;00m \u001b[43mopener\u001b[49m\u001b[38;5;241;43m.\u001b[39;49m\u001b[43mopen\u001b[49m\u001b[43m(\u001b[49m\u001b[43murl\u001b[49m\u001b[43m,\u001b[49m\u001b[43m \u001b[49m\u001b[43mdata\u001b[49m\u001b[43m,\u001b[49m\u001b[43m \u001b[49m\u001b[43mtimeout\u001b[49m\u001b[43m)\u001b[49m\n",
      "File \u001b[1;32m~\\AppData\\Local\\Programs\\Python\\Python311\\Lib\\urllib\\request.py:525\u001b[0m, in \u001b[0;36mOpenerDirector.open\u001b[1;34m(self, fullurl, data, timeout)\u001b[0m\n\u001b[0;32m    523\u001b[0m \u001b[38;5;28;01mfor\u001b[39;00m processor \u001b[38;5;129;01min\u001b[39;00m \u001b[38;5;28mself\u001b[39m\u001b[38;5;241m.\u001b[39mprocess_response\u001b[38;5;241m.\u001b[39mget(protocol, []):\n\u001b[0;32m    524\u001b[0m     meth \u001b[38;5;241m=\u001b[39m \u001b[38;5;28mgetattr\u001b[39m(processor, meth_name)\n\u001b[1;32m--> 525\u001b[0m     response \u001b[38;5;241m=\u001b[39m \u001b[43mmeth\u001b[49m\u001b[43m(\u001b[49m\u001b[43mreq\u001b[49m\u001b[43m,\u001b[49m\u001b[43m \u001b[49m\u001b[43mresponse\u001b[49m\u001b[43m)\u001b[49m\n\u001b[0;32m    527\u001b[0m \u001b[38;5;28;01mreturn\u001b[39;00m response\n",
      "File \u001b[1;32m~\\AppData\\Local\\Programs\\Python\\Python311\\Lib\\urllib\\request.py:634\u001b[0m, in \u001b[0;36mHTTPErrorProcessor.http_response\u001b[1;34m(self, request, response)\u001b[0m\n\u001b[0;32m    631\u001b[0m \u001b[38;5;66;03m# According to RFC 2616, \"2xx\" code indicates that the client's\u001b[39;00m\n\u001b[0;32m    632\u001b[0m \u001b[38;5;66;03m# request was successfully received, understood, and accepted.\u001b[39;00m\n\u001b[0;32m    633\u001b[0m \u001b[38;5;28;01mif\u001b[39;00m \u001b[38;5;129;01mnot\u001b[39;00m (\u001b[38;5;241m200\u001b[39m \u001b[38;5;241m<\u001b[39m\u001b[38;5;241m=\u001b[39m code \u001b[38;5;241m<\u001b[39m \u001b[38;5;241m300\u001b[39m):\n\u001b[1;32m--> 634\u001b[0m     response \u001b[38;5;241m=\u001b[39m \u001b[38;5;28;43mself\u001b[39;49m\u001b[38;5;241;43m.\u001b[39;49m\u001b[43mparent\u001b[49m\u001b[38;5;241;43m.\u001b[39;49m\u001b[43merror\u001b[49m\u001b[43m(\u001b[49m\n\u001b[0;32m    635\u001b[0m \u001b[43m        \u001b[49m\u001b[38;5;124;43m'\u001b[39;49m\u001b[38;5;124;43mhttp\u001b[39;49m\u001b[38;5;124;43m'\u001b[39;49m\u001b[43m,\u001b[49m\u001b[43m \u001b[49m\u001b[43mrequest\u001b[49m\u001b[43m,\u001b[49m\u001b[43m \u001b[49m\u001b[43mresponse\u001b[49m\u001b[43m,\u001b[49m\u001b[43m \u001b[49m\u001b[43mcode\u001b[49m\u001b[43m,\u001b[49m\u001b[43m \u001b[49m\u001b[43mmsg\u001b[49m\u001b[43m,\u001b[49m\u001b[43m \u001b[49m\u001b[43mhdrs\u001b[49m\u001b[43m)\u001b[49m\n\u001b[0;32m    637\u001b[0m \u001b[38;5;28;01mreturn\u001b[39;00m response\n",
      "File \u001b[1;32m~\\AppData\\Local\\Programs\\Python\\Python311\\Lib\\urllib\\request.py:563\u001b[0m, in \u001b[0;36mOpenerDirector.error\u001b[1;34m(self, proto, *args)\u001b[0m\n\u001b[0;32m    561\u001b[0m \u001b[38;5;28;01mif\u001b[39;00m http_err:\n\u001b[0;32m    562\u001b[0m     args \u001b[38;5;241m=\u001b[39m (\u001b[38;5;28mdict\u001b[39m, \u001b[38;5;124m'\u001b[39m\u001b[38;5;124mdefault\u001b[39m\u001b[38;5;124m'\u001b[39m, \u001b[38;5;124m'\u001b[39m\u001b[38;5;124mhttp_error_default\u001b[39m\u001b[38;5;124m'\u001b[39m) \u001b[38;5;241m+\u001b[39m orig_args\n\u001b[1;32m--> 563\u001b[0m     \u001b[38;5;28;01mreturn\u001b[39;00m \u001b[38;5;28;43mself\u001b[39;49m\u001b[38;5;241;43m.\u001b[39;49m\u001b[43m_call_chain\u001b[49m\u001b[43m(\u001b[49m\u001b[38;5;241;43m*\u001b[39;49m\u001b[43margs\u001b[49m\u001b[43m)\u001b[49m\n",
      "File \u001b[1;32m~\\AppData\\Local\\Programs\\Python\\Python311\\Lib\\urllib\\request.py:496\u001b[0m, in \u001b[0;36mOpenerDirector._call_chain\u001b[1;34m(self, chain, kind, meth_name, *args)\u001b[0m\n\u001b[0;32m    494\u001b[0m \u001b[38;5;28;01mfor\u001b[39;00m handler \u001b[38;5;129;01min\u001b[39;00m handlers:\n\u001b[0;32m    495\u001b[0m     func \u001b[38;5;241m=\u001b[39m \u001b[38;5;28mgetattr\u001b[39m(handler, meth_name)\n\u001b[1;32m--> 496\u001b[0m     result \u001b[38;5;241m=\u001b[39m \u001b[43mfunc\u001b[49m\u001b[43m(\u001b[49m\u001b[38;5;241;43m*\u001b[39;49m\u001b[43margs\u001b[49m\u001b[43m)\u001b[49m\n\u001b[0;32m    497\u001b[0m     \u001b[38;5;28;01mif\u001b[39;00m result \u001b[38;5;129;01mis\u001b[39;00m \u001b[38;5;129;01mnot\u001b[39;00m \u001b[38;5;28;01mNone\u001b[39;00m:\n\u001b[0;32m    498\u001b[0m         \u001b[38;5;28;01mreturn\u001b[39;00m result\n",
      "File \u001b[1;32m~\\AppData\\Local\\Programs\\Python\\Python311\\Lib\\urllib\\request.py:643\u001b[0m, in \u001b[0;36mHTTPDefaultErrorHandler.http_error_default\u001b[1;34m(self, req, fp, code, msg, hdrs)\u001b[0m\n\u001b[0;32m    642\u001b[0m \u001b[38;5;28;01mdef\u001b[39;00m\u001b[38;5;250m \u001b[39m\u001b[38;5;21mhttp_error_default\u001b[39m(\u001b[38;5;28mself\u001b[39m, req, fp, code, msg, hdrs):\n\u001b[1;32m--> 643\u001b[0m     \u001b[38;5;28;01mraise\u001b[39;00m HTTPError(req\u001b[38;5;241m.\u001b[39mfull_url, code, msg, hdrs, fp)\n",
      "\u001b[1;31mHTTPError\u001b[0m: HTTP Error 403: No Access to this country as free user."
     ]
    }
   ],
   "source": [
    "import tradingeconomics as te\n",
    "\n",
    "te.login('b272ec23be314f7:4bq92u8udgzwrha')\n",
    "\n",
    "data = te.getIndicatorData(country='Vietnam')\n",
    "print(data)\n"
   ]
  },
  {
   "cell_type": "code",
   "execution_count": null,
   "metadata": {},
   "outputs": [],
   "source": [
    "import requests\n",
    "from bs4 import BeautifulSoup\n",
    "import pandas as pd\n",
    "\n",
    "url = \"https://oecd.ai/en/countries/China\"\n",
    "response = requests.get(url)\n",
    "soup = BeautifulSoup(response.content, \"html.parser\")\n",
    "\n",
    "# Tìm thông tin chính sách AI\n",
    "ai_policies = []\n",
    "for item in soup.find_all(\"div\", class_=\"PolicyCard_card__title__K7R3x\"):\n",
    "    ai_policies.append(item.text.strip())\n",
    "\n",
    "df = pd.DataFrame(ai_policies, columns=[\"AI Policy Title\"])\n",
    "df.to_csv(\"china_ai_policies.csv\", index=False)\n",
    "print(\"Đã lưu dữ liệu chính sách AI của Trung Quốc vào china_ai_policies.csv\")\n"
   ]
  }
 ],
 "metadata": {
  "kernelspec": {
   "display_name": "Dataflow 2025 (env)",
   "language": "python",
   "name": "dataflow_env"
  },
  "language_info": {
   "codemirror_mode": {
    "name": "ipython",
    "version": 3
   },
   "file_extension": ".py",
   "mimetype": "text/x-python",
   "name": "python",
   "nbconvert_exporter": "python",
   "pygments_lexer": "ipython3",
   "version": "3.11.6"
  }
 },
 "nbformat": 4,
 "nbformat_minor": 2
}
